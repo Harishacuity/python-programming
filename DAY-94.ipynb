{
 "cells": [
  {
   "cell_type": "markdown",
   "metadata": {},
   "source": [
    "#### Wrote a program to create a button in GUI."
   ]
  },
  {
   "cell_type": "code",
   "execution_count": 1,
   "metadata": {},
   "outputs": [],
   "source": [
    "import tkinter as tk \n",
    "parent = tk.Tk() \n",
    "parent.title('Title - button') \n",
    "my_button = tk.Button(parent, text='Quit', height=1, width=35, command=parent.destroy) \n",
    "my_button.pack() \n",
    "parent.mainloop()"
   ]
  },
  {
   "cell_type": "code",
   "execution_count": null,
   "metadata": {},
   "outputs": [],
   "source": []
  },
  {
   "cell_type": "code",
   "execution_count": 5,
   "metadata": {},
   "outputs": [
    {
     "name": "stdout",
     "output_type": "stream",
     "text": [
      "Tkinter is easy to create GUI!\n",
      "Tkinter is easy to create GUI!\n",
      "Tkinter is easy to create GUI!\n"
     ]
    }
   ],
   "source": [
    "import tkinter as tk   \n",
    "\n",
    "def write_text():\n",
    "    print(\"Tkinter is easy to create GUI!\")\n",
    "\n",
    "parent = tk.Tk()\n",
    "frame = tk.Frame(parent)\n",
    "frame.pack()\n",
    "\n",
    "text_disp= tk.Button(frame, \n",
    "                   text=\"Hello\", \n",
    "                   command=write_text\n",
    "                   )\n",
    "\n",
    "text_disp.pack(side=tk.LEFT)\n",
    "\n",
    "exit_button = tk.Button(frame,\n",
    "                   text=\"Exit\",\n",
    "                   fg=\"green\",\n",
    "                   command=quit)\n",
    "exit_button.pack(side=tk.RIGHT)\n",
    "\n",
    "parent.mainloop()"
   ]
  },
  {
   "cell_type": "code",
   "execution_count": null,
   "metadata": {},
   "outputs": [],
   "source": []
  }
 ],
 "metadata": {
  "kernelspec": {
   "display_name": "Python 3",
   "language": "python",
   "name": "python3"
  },
  "language_info": {
   "codemirror_mode": {
    "name": "ipython",
    "version": 3
   },
   "file_extension": ".py",
   "mimetype": "text/x-python",
   "name": "python",
   "nbconvert_exporter": "python",
   "pygments_lexer": "ipython3",
   "version": "3.6.9"
  }
 },
 "nbformat": 4,
 "nbformat_minor": 2
}

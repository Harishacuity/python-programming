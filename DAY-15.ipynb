{
 "cells": [
  {
   "cell_type": "markdown",
   "metadata": {},
   "source": [
    "#### HELLO....GUYS....\n",
    "\n",
    "Today i am going to program to find the most frequent letters that is been used in the list of words.\n",
    "\n",
    "1. \"words.txt\" is the text file which contains the list of words.\n",
    "\n",
    "2. Here there are three functions created.\n",
    "\n",
    "3. wordlist(x) is used to read the words present in the text file and add it to the list.\n",
    "\n",
    "4. hist(x) is used to find the frequency of letters repeated in all words present in the list and gives the output in a dictionary.\n",
    "\n",
    "5. most_frequent() function is used to align the most repeated letters in the desending order."
   ]
  },
  {
   "cell_type": "code",
   "execution_count": 4,
   "metadata": {},
   "outputs": [],
   "source": [
    "def wordlist(x):\n",
    "    fin = open(x)\n",
    "    a = []\n",
    "    for line in fin:\n",
    "        word = line.strip()\n",
    "        a.append(word)\n",
    "    return a\n",
    "\n",
    "\n",
    "def hist(x):\n",
    "    histo = {}\n",
    "    for i in x:\n",
    "        for letter in i:\n",
    "            histo[letter] = histo.get(letter,0)\n",
    "            histo[letter] = histo[letter]+1\n",
    "    return histo\n",
    "\n",
    "\n",
    "def most_frequent(x):\n",
    "    a = wordlist(x) #assigning wordlist function  to 'a' \n",
    "    histogram = hist(a) #assigning hist function to 'histogram'\n",
    "    k = [] #empty list is created\n",
    "    for letter,freq in histogram.items(): #iterating the output of histogram which is in dictionary as letter and frequency\n",
    "        k.append((freq,letter)) #adding the frequency and letter to a empty list\n",
    "    k.sort(reverse=True) #sorting in reverse order\n",
    "    print(k)\n",
    "    \"\"\"In here we are reversing the key and value i.e 'letter' and 'freq' into the list by 'freq' and 'letter'.\n",
    "    so by doing this we can sort it in a ascending or desending order.\"\"\"\n",
    "    n = [] #creating empty list \n",
    "    for freq,letter in k: #iterating the freq an letter from list 'k'\n",
    "        n.append(letter) #appending only letter to the empty list\n",
    "    return n"
   ]
  },
  {
   "cell_type": "code",
   "execution_count": 3,
   "metadata": {},
   "outputs": [
    {
     "name": "stdout",
     "output_type": "stream",
     "text": [
      "[(106758, 'e'), (86547, 's'), (77412, 'i'), (68582, 'a'), (64965, 'r'), (60513, 'n'), (57059, 't'), (54542, 'o'), (47011, 'l'), (34552, 'd'), (34287, 'c'), (31161, 'u'), (27848, 'g'), (25789, 'p'), (24741, 'm'), (20200, 'h'), (17798, 'b'), (13473, 'y'), (12714, 'f'), (9370, 'k'), (9186, 'v'), (8535, 'w'), (3750, 'z'), (2700, 'x'), (1780, 'j'), (1632, 'q')]\n"
     ]
    },
    {
     "data": {
      "text/plain": [
       "['e',\n",
       " 's',\n",
       " 'i',\n",
       " 'a',\n",
       " 'r',\n",
       " 'n',\n",
       " 't',\n",
       " 'o',\n",
       " 'l',\n",
       " 'd',\n",
       " 'c',\n",
       " 'u',\n",
       " 'g',\n",
       " 'p',\n",
       " 'm',\n",
       " 'h',\n",
       " 'b',\n",
       " 'y',\n",
       " 'f',\n",
       " 'k',\n",
       " 'v',\n",
       " 'w',\n",
       " 'z',\n",
       " 'x',\n",
       " 'j',\n",
       " 'q']"
      ]
     },
     "execution_count": 3,
     "metadata": {},
     "output_type": "execute_result"
    }
   ],
   "source": [
    "most_frequent('words.txt')"
   ]
  },
  {
   "cell_type": "markdown",
   "metadata": {},
   "source": [
    "Output explanation:\n",
    "    1. Here first list shows the desending order of the most frequent words used.\n",
    "    \n",
    "    2. second list gives the words that occurs most frequently"
   ]
  },
  {
   "cell_type": "code",
   "execution_count": null,
   "metadata": {},
   "outputs": [],
   "source": []
  }
 ],
 "metadata": {
  "kernelspec": {
   "display_name": "Python 3",
   "language": "python",
   "name": "python3"
  },
  "language_info": {
   "codemirror_mode": {
    "name": "ipython",
    "version": 3
   },
   "file_extension": ".py",
   "mimetype": "text/x-python",
   "name": "python",
   "nbconvert_exporter": "python",
   "pygments_lexer": "ipython3",
   "version": "3.5.2"
  }
 },
 "nbformat": 4,
 "nbformat_minor": 2
}

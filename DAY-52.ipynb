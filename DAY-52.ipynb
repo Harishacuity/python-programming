{
 "cells": [
  {
   "cell_type": "markdown",
   "metadata": {},
   "source": [
    "### Python program to find the closest value of a given target value in a given non-empty Binary Search Tree (BST) of unique values."
   ]
  },
  {
   "cell_type": "code",
   "execution_count": 12,
   "metadata": {},
   "outputs": [
    {
     "name": "stdout",
     "output_type": "stream",
     "text": [
      "Closest value for 5 is 5\n",
      "Closest value for 25 is 24\n",
      "Closest value for 10 is  8\n"
     ]
    }
   ],
   "source": [
    "class TreeNode(object):\n",
    "    def __init__(self, x):\n",
    "        self.val = x\n",
    "        self.left = None\n",
    "        self.right = None\n",
    "\n",
    "def closest_value(root, target):\n",
    "    a = root.val\n",
    "    kid = root.left if target < a else root.right\n",
    "    if not kid:\n",
    "        return a\n",
    "    b = closest_value(kid, target)\n",
    "    return min((a,b), key=lambda x: abs(target-x))\n",
    "\n",
    "root = TreeNode(8)  \n",
    "root.left = TreeNode(5)  \n",
    "root.right = TreeNode(14) \n",
    "root.left.left = TreeNode(4)  \n",
    "root.left.right = TreeNode(6) \n",
    "root.left.right.left = TreeNode(8)  \n",
    "root.left.right.right = TreeNode(7)  \n",
    "root.right.right = TreeNode(24) \n",
    "root.right.right.left = TreeNode(22)  \n",
    "    \n",
    "result = closest_value(root, 5)\n",
    "print('Closest value for 5 is', result)\n",
    "\n",
    "result1 = closest_value(root, 25)\n",
    "print('Closest value for 25 is', result1)\n",
    "\n",
    "result2 = closest_value(root, 10)\n",
    "print('Closest value for 10 is ', result2)"
   ]
  },
  {
   "cell_type": "code",
   "execution_count": null,
   "metadata": {},
   "outputs": [],
   "source": []
  }
 ],
 "metadata": {
  "kernelspec": {
   "display_name": "Python 3",
   "language": "python",
   "name": "python3"
  },
  "language_info": {
   "codemirror_mode": {
    "name": "ipython",
    "version": 3
   },
   "file_extension": ".py",
   "mimetype": "text/x-python",
   "name": "python",
   "nbconvert_exporter": "python",
   "pygments_lexer": "ipython3",
   "version": "3.6.8"
  }
 },
 "nbformat": 4,
 "nbformat_minor": 2
}

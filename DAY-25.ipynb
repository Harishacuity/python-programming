{
 "cells": [
  {
   "cell_type": "code",
   "execution_count": 11,
   "metadata": {},
   "outputs": [
    {
     "name": "stdout",
     "output_type": "stream",
     "text": [
      "sam@gmail.com\n",
      "genny321@gmail.com\n",
      "marvel.iron@outlook.com\n"
     ]
    }
   ],
   "source": [
    "import re\n",
    "str = 'sam@gmail.com, genny321@gmail.com, marvel.iron@outlook.com this is a email to extract'\n",
    "emails = re.findall(r'[\\w\\.-]+@[\\w\\.-]+', str)\n",
    "for email in emails:\n",
    "    print (email)\n",
    "    \n"
   ]
  },
  {
   "cell_type": "code",
   "execution_count": null,
   "metadata": {},
   "outputs": [],
   "source": []
  }
 ],
 "metadata": {
  "kernelspec": {
   "display_name": "Python 3",
   "language": "python",
   "name": "python3"
  },
  "language_info": {
   "codemirror_mode": {
    "name": "ipython",
    "version": 3
   },
   "file_extension": ".py",
   "mimetype": "text/x-python",
   "name": "python",
   "nbconvert_exporter": "python",
   "pygments_lexer": "ipython3",
   "version": "3.6.8"
  }
 },
 "nbformat": 4,
 "nbformat_minor": 2
}

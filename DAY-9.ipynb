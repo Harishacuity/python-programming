{
 "cells": [
  {
   "cell_type": "markdown",
   "metadata": {},
   "source": [
    "Hi.. In this program we going to check whether the word has letter \"e\" and return false."
   ]
  },
  {
   "cell_type": "code",
   "execution_count": 1,
   "metadata": {},
   "outputs": [],
   "source": [
    "def has_no_e(word): #defining the function has_no_e\n",
    "    char = ''     #initiating a variable with empty character\n",
    "    for char in word:  # creating a for loop which iterates the each letter(char) in given word(word)\n",
    "        print(char)    # print the iterated letter(char)\n",
    "        if (char == 'e') or (char == 'E'):#checking whether the letter is 'e'\n",
    "            return False#returns false if its 'e'\n",
    "    return True #after the loop finishes fully  i.e if ther is no 'e' then it return true. "
   ]
  },
  {
   "cell_type": "code",
   "execution_count": 3,
   "metadata": {},
   "outputs": [
    {
     "name": "stdout",
     "output_type": "stream",
     "text": [
      "a\n",
      "p\n",
      "p\n",
      "l\n",
      "e\n",
      "False\n",
      "\n",
      "\n",
      "b\n",
      "a\n",
      "n\n",
      "a\n",
      "n\n",
      "a\n",
      "True\n"
     ]
    }
   ],
   "source": [
    "print(has_no_e('apple'))\n",
    "print('\\n')\n",
    "print(has_no_e(\"banana\"))"
   ]
  },
  {
   "cell_type": "code",
   "execution_count": null,
   "metadata": {},
   "outputs": [],
   "source": []
  }
 ],
 "metadata": {
  "kernelspec": {
   "display_name": "Python 3",
   "language": "python",
   "name": "python3"
  },
  "language_info": {
   "codemirror_mode": {
    "name": "ipython",
    "version": 3
   },
   "file_extension": ".py",
   "mimetype": "text/x-python",
   "name": "python",
   "nbconvert_exporter": "python",
   "pygments_lexer": "ipython3",
   "version": "3.6.8"
  }
 },
 "nbformat": 4,
 "nbformat_minor": 2
}

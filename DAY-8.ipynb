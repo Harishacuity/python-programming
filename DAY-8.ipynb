{
 "cells": [
  {
   "cell_type": "markdown",
   "metadata": {},
   "source": [
    "Hi.....Guys Today i've worked in slicing the string and making it to print in the order we needed.\n",
    "\n",
    "I just make it to the palindrome check.. where i previously took extra lines of code but now replaced with simple one."
   ]
  },
  {
   "cell_type": "markdown",
   "metadata": {},
   "source": [
    "#### How slicing done..."
   ]
  },
  {
   "cell_type": "code",
   "execution_count": 12,
   "metadata": {},
   "outputs": [
    {
     "name": "stdout",
     "output_type": "stream",
     "text": [
      "apple\n",
      "\n",
      "\n",
      "elppa\n"
     ]
    }
   ],
   "source": [
    "a = 'apple'\n",
    "print(a[::1])# it is in format of [start : end: step]\n",
    "print('\\n')\n",
    "print(a[::-1])\n",
    "\n"
   ]
  },
  {
   "cell_type": "markdown",
   "metadata": {},
   "source": [
    "#### How to print in order we need"
   ]
  },
  {
   "cell_type": "code",
   "execution_count": 14,
   "metadata": {},
   "outputs": [
    {
     "name": "stdout",
     "output_type": "stream",
     "text": [
      "bcdefg\n",
      "\n",
      "\n",
      "bdf\n"
     ]
    }
   ],
   "source": [
    "alpha = 'abcdefgh'\n",
    "print(alpha[1:7:1])#it has a range of 1 to 7 where the string starts from 0 and move with a stepsize of 1\n",
    "print('\\n')\n",
    "print(alpha[1:7:2]) # same as above with the step size of 2"
   ]
  },
  {
   "cell_type": "markdown",
   "metadata": {},
   "source": [
    "#### If nothing given in the colon means it takes all the letters."
   ]
  },
  {
   "cell_type": "markdown",
   "metadata": {},
   "source": [
    "#### we can use this as palindrome check"
   ]
  },
  {
   "cell_type": "code",
   "execution_count": 15,
   "metadata": {},
   "outputs": [
    {
     "name": "stdout",
     "output_type": "stream",
     "text": [
      "civic\n",
      "civic\n",
      "False\n",
      "True\n"
     ]
    }
   ],
   "source": [
    "s = 'civic'\n",
    "print(s[::1])\n",
    "print(s[::-1])\n",
    "print(s[::1] is s[::-1]) #it see if both are same object\n",
    "print(s[::1] == s[::-1]) # it checks the indices are same"
   ]
  },
  {
   "cell_type": "code",
   "execution_count": 19,
   "metadata": {},
   "outputs": [],
   "source": [
    "def is_palindrome(word):\n",
    "    return word[::1]==word[::-1]\n"
   ]
  },
  {
   "cell_type": "code",
   "execution_count": 20,
   "metadata": {},
   "outputs": [
    {
     "name": "stdout",
     "output_type": "stream",
     "text": [
      "True\n",
      "False\n"
     ]
    }
   ],
   "source": [
    "print(is_palindrome('malayalam'))\n",
    "print(is_palindrome('banana'))"
   ]
  },
  {
   "cell_type": "code",
   "execution_count": null,
   "metadata": {},
   "outputs": [],
   "source": [
    "Thats it.... see ya....."
   ]
  }
 ],
 "metadata": {
  "kernelspec": {
   "display_name": "Python 3",
   "language": "python",
   "name": "python3"
  },
  "language_info": {
   "codemirror_mode": {
    "name": "ipython",
    "version": 3
   },
   "file_extension": ".py",
   "mimetype": "text/x-python",
   "name": "python",
   "nbconvert_exporter": "python",
   "pygments_lexer": "ipython3",
   "version": "3.5.2"
  }
 },
 "nbformat": 4,
 "nbformat_minor": 2
}

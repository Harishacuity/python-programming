{
 "cells": [
  {
   "cell_type": "markdown",
   "metadata": {},
   "source": [
    "Hi everyone.....\n",
    "\n",
    "Happy morning...\n",
    "\n",
    "Today i've learnt about histogram and tried a program to give the frequency of letters that occurs in it.\n",
    "I used dictionary since it does not repeat the element.\n",
    "\n",
    "\n",
    "HISTOGRAM: It is a frequency of the elements occurs in a object."
   ]
  },
  {
   "cell_type": "code",
   "execution_count": 1,
   "metadata": {},
   "outputs": [],
   "source": [
    "def histogram(x): \n",
    "    histo = {} #empty dictionary is created\n",
    "    for i in x:#each element in the arguement is iterated.\n",
    "        for letter in i:#letters in each element are iterated\n",
    "            histo[letter] = histo.get(letter,0) #adding those letters as keys and value to '0' if not not present already\n",
    "            histo[letter] = histo[letter]+1 #adding 1 to the previous value of the letter\n",
    "    return histo\n"
   ]
  },
  {
   "cell_type": "markdown",
   "metadata": {},
   "source": [
    "Explanation:\n",
    "    1. As i have mentioned in a comment follow that if you not get cleared.\n",
    "    2. .get(letter,0) is a dictionary keyword in which it gets the value of the letter that presents in a dictionary, \n",
    "    sometimes if the element is not present we can add it to dictionary by giving value to it as '0'\n",
    "    3 we did that since we need to append it to the empty dictionary and in the next line to it we add 1 and loop  "
   ]
  },
  {
   "cell_type": "code",
   "execution_count": 2,
   "metadata": {},
   "outputs": [
    {
     "data": {
      "text/plain": [
       "{'a': 4, 'b': 1, 'e': 1, 'l': 1, 'n': 2, 'p': 2}"
      ]
     },
     "execution_count": 2,
     "metadata": {},
     "output_type": "execute_result"
    }
   ],
   "source": [
    "histogram(['banana','apple'])"
   ]
  },
  {
   "cell_type": "code",
   "execution_count": null,
   "metadata": {},
   "outputs": [],
   "source": []
  }
 ],
 "metadata": {
  "kernelspec": {
   "display_name": "Python 3",
   "language": "python",
   "name": "python3"
  },
  "language_info": {
   "codemirror_mode": {
    "name": "ipython",
    "version": 3
   },
   "file_extension": ".py",
   "mimetype": "text/x-python",
   "name": "python",
   "nbconvert_exporter": "python",
   "pygments_lexer": "ipython3",
   "version": "3.5.2"
  }
 },
 "nbformat": 4,
 "nbformat_minor": 2
}

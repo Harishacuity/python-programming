{
 "cells": [
  {
   "cell_type": "markdown",
   "metadata": {},
   "source": [
    "The mathematician Srinivasa Ramanujan found an infinite series that can be used to\n",
    "generate a numerical approximation of 1/π:\n"
   ]
  },
  {
   "attachments": {
    "img": {
     "": "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"
    }
   },
   "cell_type": "markdown",
   "metadata": {},
   "source": [
    "![img](attachment:img)"
   ]
  },
  {
   "cell_type": "markdown",
   "metadata": {},
   "source": [
    "Write a function called estimate_pi that uses this formula to compute and return an estimate of\n",
    "π. It should use a while loop to compute terms of the summation until the last term is smaller than\n",
    "1e-15 (which is Python notation for 10 − 15 ). You can check the result by comparing it to math.pi"
   ]
  },
  {
   "cell_type": "code",
   "execution_count": null,
   "metadata": {},
   "outputs": [],
   "source": []
  },
  {
   "cell_type": "markdown",
   "metadata": {},
   "source": [
    "#### I just seperated the equations and defined it to a individual functions as \"outside_equ()\" and \"summation()\"\n",
    "\n",
    "And created \"estimate_pi()\" function which multiplies the above functions."
   ]
  },
  {
   "cell_type": "markdown",
   "metadata": {},
   "source": [
    "#### Outside the summation equation"
   ]
  },
  {
   "cell_type": "code",
   "execution_count": 25,
   "metadata": {},
   "outputs": [
    {
     "data": {
      "text/plain": [
       "6"
      ]
     },
     "execution_count": 25,
     "metadata": {},
     "output_type": "execute_result"
    }
   ],
   "source": [
    "def fact(n): #creating function for a factorial\n",
    "    if n == 0:\n",
    "        return 1\n",
    "    else:\n",
    "        recurse = fact(n-1)\n",
    "#         print(recurse)\n",
    "        return (n*recurse)\n",
    "fact(3)"
   ]
  },
  {
   "cell_type": "code",
   "execution_count": 26,
   "metadata": {},
   "outputs": [
    {
     "data": {
      "text/plain": [
       "0.00028858556522254775"
      ]
     },
     "execution_count": 26,
     "metadata": {},
     "output_type": "execute_result"
    }
   ],
   "source": [
    "import math\n",
    "def outside_equ():  # creating the function for outside equation\n",
    "    c = (2*math.sqrt(2))/9801\n",
    "    return c\n",
    "outside_equ()"
   ]
  },
  {
   "cell_type": "code",
   "execution_count": 27,
   "metadata": {},
   "outputs": [],
   "source": [
    "def summation(): #creating function to solve the summation equation\n",
    "    k = 0\n",
    "    while True:\n",
    "        numer = (fact(4*k) * (1103 + 26390*k))\n",
    "        deno = (((fact(k))**4) * (396)**(4*k))\n",
    "        fract = numer/deno\n",
    "        if fract < (1e-15):\n",
    "            print (fract)\n",
    "            break\n",
    "        else:\n",
    "            k = k+1\n",
    "            return(fract)\n"
   ]
  },
  {
   "cell_type": "code",
   "execution_count": 28,
   "metadata": {},
   "outputs": [
    {
     "data": {
      "text/plain": [
       "0.31830987844047015"
      ]
     },
     "execution_count": 28,
     "metadata": {},
     "output_type": "execute_result"
    }
   ],
   "source": [
    "def estimate_pi(): \n",
    "    ans = outside_equ()*summation()\n",
    "    return ans\n",
    "estimate_pi()"
   ]
  },
  {
   "cell_type": "code",
   "execution_count": 29,
   "metadata": {},
   "outputs": [
    {
     "name": "stdout",
     "output_type": "stream",
     "text": [
      "0.3183098861837907\n"
     ]
    }
   ],
   "source": [
    "LHS= 1/math.pi \n",
    "print(LHS)"
   ]
  },
  {
   "cell_type": "code",
   "execution_count": 30,
   "metadata": {},
   "outputs": [
    {
     "name": "stdout",
     "output_type": "stream",
     "text": [
      "0.31830987844047015\n"
     ]
    }
   ],
   "source": [
    "RHS=estimate_pi()\n",
    "print(RHS)"
   ]
  },
  {
   "cell_type": "code",
   "execution_count": null,
   "metadata": {},
   "outputs": [],
   "source": []
  }
 ],
 "metadata": {
  "kernelspec": {
   "display_name": "Python 3",
   "language": "python",
   "name": "python3"
  },
  "language_info": {
   "codemirror_mode": {
    "name": "ipython",
    "version": 3
   },
   "file_extension": ".py",
   "mimetype": "text/x-python",
   "name": "python",
   "nbconvert_exporter": "python",
   "pygments_lexer": "ipython3",
   "version": "3.5.2"
  }
 },
 "nbformat": 4,
 "nbformat_minor": 2
}

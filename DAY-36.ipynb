{
 "cells": [
  {
   "cell_type": "markdown",
   "metadata": {},
   "source": [
    "#### Hi guys today i've seen the python program to how to hash the file... Need to explore more in this....."
   ]
  },
  {
   "cell_type": "code",
   "execution_count": 2,
   "metadata": {},
   "outputs": [
    {
     "name": "stdout",
     "output_type": "stream",
     "text": [
      "21d633a9b6695707cc567ce8c01fdff6927316a5\n"
     ]
    }
   ],
   "source": [
    "# Python rogram to find the SHA-1 message digest of a file\n",
    "# importing the hashlib module\n",
    "import hashlib\n",
    "def hash_file(filename):\n",
    "\n",
    "    \"\"\"\"This function returns the SHA-1 hash\n",
    "    of the file passed into it\"\"\"\n",
    "\n",
    "    # make a hash object\n",
    "    h = hashlib.sha1()\n",
    "\n",
    "    # open file for reading in binary mode\n",
    "    with open(filename,'rb') as file:\n",
    "    # loop till the end of the file\n",
    "        chunk = 0\n",
    "        while chunk != b'':\n",
    "            # read only 1024 bytes at a time\n",
    "            chunk = file.read(1024)\n",
    "            h.update(chunk)\n",
    "    # return the hex representation of digest\n",
    "    return h.hexdigest()\n",
    "\n",
    "\n",
    "message = hash_file(\"hash.txt\")\n",
    "print(message)"
   ]
  },
  {
   "cell_type": "code",
   "execution_count": null,
   "metadata": {},
   "outputs": [],
   "source": []
  }
 ],
 "metadata": {
  "kernelspec": {
   "display_name": "Python 3",
   "language": "python",
   "name": "python3"
  },
  "language_info": {
   "codemirror_mode": {
    "name": "ipython",
    "version": 3
   },
   "file_extension": ".py",
   "mimetype": "text/x-python",
   "name": "python",
   "nbconvert_exporter": "python",
   "pygments_lexer": "ipython3",
   "version": "3.6.8"
  }
 },
 "nbformat": 4,
 "nbformat_minor": 2
}

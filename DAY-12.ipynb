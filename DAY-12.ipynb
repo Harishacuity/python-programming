{
 "cells": [
  {
   "cell_type": "markdown",
   "metadata": {},
   "source": [
    "Hello..... \n",
    "\n",
    "Today i've written a program to check the word has repeated letters or not.\n",
    "\n",
    "I have used the dictionaries to store the element.\n",
    "\n",
    "since dictionary has key,value pair and is not mutable."
   ]
  },
  {
   "cell_type": "code",
   "execution_count": 2,
   "metadata": {},
   "outputs": [
    {
     "name": "stdout",
     "output_type": "stream",
     "text": [
      "{'b': True}\n",
      "{'b': True, 'a': True}\n",
      "{'b': True, 'a': True, 'n': True}\n",
      "True\n",
      "{'r': True}\n",
      "{'r': True, 'i': True}\n",
      "{'r': True, 'i': True, 'g': True}\n",
      "{'r': True, 'i': True, 'g': True, 'h': True}\n",
      "{'r': True, 'i': True, 'g': True, 'h': True, 't': True}\n",
      "False\n"
     ]
    }
   ],
   "source": [
    "def has_duplicate(x): #creating a function named has_duplicate with arguement named 'x'\n",
    "    new = {} #creating a empty dictionary\n",
    "    for i in x: #iterating each element from the arguement\n",
    "        if i in new: #checking the empty dictionary for the element\n",
    "            return True #if its there then it returns true and function exits\n",
    "        new[i] = True #if the condition fails it adds the element into dictionary with 'element' as \"key\" and and 'True' as \"value\" \n",
    "        print(new)  # print the dicitionary with new element------it repeats until every element is iterated or condition satisfied\n",
    "    return False\n",
    "a = 'banana'\n",
    "b = 'right'\n",
    "print(has_duplicate(a))\n",
    "print(has_duplicate(b))"
   ]
  },
  {
   "cell_type": "markdown",
   "metadata": {},
   "source": [
    "### output explanation"
   ]
  },
  {
   "cell_type": "markdown",
   "metadata": {},
   "source": [
    "---->In the first line it adds a first letter into a empty dictinary.\n",
    "\n",
    "In the second line it update the second letter to the dictionary.\n",
    "\n",
    "similary for third letter\n",
    "\n",
    "After the 3rd letter in \"banana\" it repeats the letter 'a' ,so condition satisfied and returned True and exits the function..\n",
    "\n",
    "\n",
    "\n",
    "----->If the letter is not repeated then the function iterate the letters fully and comes out of the loop and returns False...\n",
    "\n",
    "\"right\" word is a example for it"
   ]
  },
  {
   "cell_type": "code",
   "execution_count": null,
   "metadata": {},
   "outputs": [],
   "source": []
  }
 ],
 "metadata": {
  "kernelspec": {
   "display_name": "Python 3",
   "language": "python",
   "name": "python3"
  },
  "language_info": {
   "codemirror_mode": {
    "name": "ipython",
    "version": 3
   },
   "file_extension": ".py",
   "mimetype": "text/x-python",
   "name": "python",
   "nbconvert_exporter": "python",
   "pygments_lexer": "ipython3",
   "version": "3.6.8"
  }
 },
 "nbformat": 4,
 "nbformat_minor": 2
}

{
 "cells": [
  {
   "cell_type": "markdown",
   "metadata": {},
   "source": [
    "Hello.... pleasant morning....\n",
    "\n",
    "Today i wrote a program to map the first name and last name to the respectvie number which is from different tuples.\n",
    "\n",
    "And giving it to a dictionary.\n",
    "\n",
    "lets see how its done/////"
   ]
  },
  {
   "cell_type": "code",
   "execution_count": 3,
   "metadata": {},
   "outputs": [
    {
     "name": "stdout",
     "output_type": "stream",
     "text": [
      "[('elon', 'musk'), ('max', 'pyne'), ('henry', 'ford')]\n",
      "\n",
      "\n",
      "[(('elon', 'musk'), '954126487'), (('max', 'pyne'), '549965487'), (('henry', 'ford'), '4586213547')]\n",
      "\n",
      "\n",
      "{('henry', 'ford'): '4586213547', ('max', 'pyne'): '549965487', ('elon', 'musk'): '954126487'}\n"
     ]
    }
   ],
   "source": [
    "dictionary = {} #creating a empty dictionary \n",
    "a = [] #creating empty list to add (firstname and last name)\n",
    "b = [] #creating a empty list to add names and numbers \n",
    "last = ('musk','pyne','ford') # 'last' variable contains tuples of last names\n",
    "first = ('elon', 'max','henry')# 'first' variable contains tuples of first names\n",
    "number = ('954126487','549965487','4586213547')# 'number' variable contains tuples of numbers\n",
    "\n",
    "'''here zip is used to combine the 1st element from different tuple as  single one '''\n",
    "for i in zip(first,last):#iterating the element\n",
    "    a.append(i) #adding the element into list a\n",
    "print(a)\n",
    "print('\\n')\n",
    "\n",
    "for x in zip(a,number):#similarly like previous combining from list a and number \n",
    "    b.append(x) #adding it to b list\n",
    "print(b)\n",
    "print('\\n')\n",
    "\n",
    "'''In dictionary we have key,value pair so it can be iterated  '''\n",
    "for key,value in b: \n",
    "    dictionary[key] = value #appending key and value in the \n",
    "print(dictionary)"
   ]
  },
  {
   "cell_type": "code",
   "execution_count": null,
   "metadata": {},
   "outputs": [],
   "source": []
  }
 ],
 "metadata": {
  "kernelspec": {
   "display_name": "Python 3",
   "language": "python",
   "name": "python3"
  },
  "language_info": {
   "codemirror_mode": {
    "name": "ipython",
    "version": 3
   },
   "file_extension": ".py",
   "mimetype": "text/x-python",
   "name": "python",
   "nbconvert_exporter": "python",
   "pygments_lexer": "ipython3",
   "version": "3.5.2"
  }
 },
 "nbformat": 4,
 "nbformat_minor": 2
}

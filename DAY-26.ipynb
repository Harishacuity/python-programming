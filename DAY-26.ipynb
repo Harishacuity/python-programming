{
 "cells": [
  {
   "cell_type": "markdown",
   "metadata": {},
   "source": [
    "#### Hi guys today i've seen some snippets to extract the codes from the deep lists.."
   ]
  },
  {
   "cell_type": "markdown",
   "metadata": {},
   "source": [
    "Below program will extract the items from the list within list.. But if more lists are nested within it cannot be extracted outside. "
   ]
  },
  {
   "cell_type": "code",
   "execution_count": 6,
   "metadata": {},
   "outputs": [],
   "source": [
    "def unrar(arg):\n",
    "    a = []\n",
    "    for i in arg:\n",
    "        if isinstance(i,list):\n",
    "            a.extend(i)\n",
    "        else:\n",
    "            a.append(i)\n",
    "    return a\n",
    "    "
   ]
  },
  {
   "cell_type": "code",
   "execution_count": 9,
   "metadata": {},
   "outputs": [
    {
     "name": "stdout",
     "output_type": "stream",
     "text": [
      "[1, 2, 3, [4, [6]], 5]\n",
      "[1, 2, 3, 4, 5]\n"
     ]
    }
   ],
   "source": [
    "l = [1,2,[3,[4,[6]]],5]\n",
    "k = [1,2,[3,4],[5]]\n",
    "print(unrar(l))\n",
    "print(unrar(k))"
   ]
  },
  {
   "cell_type": "code",
   "execution_count": null,
   "metadata": {},
   "outputs": [],
   "source": [
    "To overcome the above problem ... here we use recursive function and also used list comprehension.."
   ]
  },
  {
   "cell_type": "code",
   "execution_count": 4,
   "metadata": {},
   "outputs": [],
   "source": [
    "def deep_flatten(lists):\n",
    "    flat_list = []\n",
    "    [flat_list.extend(deep_flatten(x))for x in lists] if isinstance(lists, list) else flat_list.append(lists)\n",
    "    return flat_list"
   ]
  },
  {
   "cell_type": "code",
   "execution_count": 5,
   "metadata": {},
   "outputs": [
    {
     "data": {
      "text/plain": [
       "[1, 2, 3, 4, 6, 5]"
      ]
     },
     "execution_count": 5,
     "metadata": {},
     "output_type": "execute_result"
    }
   ],
   "source": [
    "deep_flatten(l)"
   ]
  },
  {
   "cell_type": "code",
   "execution_count": null,
   "metadata": {},
   "outputs": [],
   "source": []
  }
 ],
 "metadata": {
  "kernelspec": {
   "display_name": "Python 3",
   "language": "python",
   "name": "python3"
  },
  "language_info": {
   "codemirror_mode": {
    "name": "ipython",
    "version": 3
   },
   "file_extension": ".py",
   "mimetype": "text/x-python",
   "name": "python",
   "nbconvert_exporter": "python",
   "pygments_lexer": "ipython3",
   "version": "3.6.8"
  }
 },
 "nbformat": 4,
 "nbformat_minor": 2
}

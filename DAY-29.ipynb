{
 "cells": [
  {
   "cell_type": "markdown",
   "metadata": {},
   "source": [
    "## Regular Expressions"
   ]
  },
  {
   "cell_type": "markdown",
   "metadata": {},
   "source": [
    "### It is programming language embedded inside Python "
   ]
  },
  {
   "cell_type": "markdown",
   "metadata": {},
   "source": [
    "You can then ask questions such as \n",
    "1. “Does this string match the pattern?”===>Matching\n",
    "2. “Is there a match for the pattern anywhere in this string?”. =====?>checking the match\n",
    "3. You can also use REs to modify a string =======> modify it\n",
    "4. split it apart in various ways.====>split it"
   ]
  },
  {
   "cell_type": "markdown",
   "metadata": {},
   "source": [
    "#### Regular expression patterns are compiled into a series of bytecodes which are then executed by a matching engine written in C"
   ]
  },
  {
   "cell_type": "markdown",
   "metadata": {},
   "source": [
    "#### it may be necessary to pay careful attention to how the engine will execute a given RE, and write the RE in a certain way in order to produce bytecode that runs faster."
   ]
  },
  {
   "cell_type": "markdown",
   "metadata": {},
   "source": [
    "### The first metacharacters we’ll look at are '[' and ']'. \n",
    "\n",
    "They’re used for specifying a character class, which is a set of characters that you wish to match."
   ]
  },
  {
   "cell_type": "markdown",
   "metadata": {},
   "source": [
    "### Identifiers:\n",
    "\n",
    "\\d = any number\n",
    "\n",
    "\\D = anything but a number\n",
    "\n",
    "\\s = space\n",
    "\n",
    "\\S = anything but a space\n",
    "\n",
    "\\w = any letter\n",
    "\n",
    "\\W = anything but a letter\n",
    "\n",
    ". = any character, except for a new line\n",
    "\n",
    "\\b = space around whole words\n",
    "\n",
    "\\. = period. must use backslash, because . normally means any character."
   ]
  },
  {
   "cell_type": "markdown",
   "metadata": {},
   "source": [
    "### Modifiers:\n",
    "\n",
    "{1,3} = for digits, u expect 1-3 counts of digits, or \"places\"\n",
    "\n",
    "'+' = match 1 or more\n",
    "\n",
    "? = match 0 or 1 repetitions.\n",
    "\n",
    "'*'= match 0 or MORE repetitions\n",
    "\n",
    "$ = matches at the end of string\n",
    "\n",
    "^ = matches start of a string\n",
    "\n",
    "| = matches either/or. Example x|y = will match either x or y\n",
    "\n",
    "[] = range, or \"variance\"\n",
    "\n",
    "{x} = expect to see this amount of the preceding code.\n",
    "\n",
    "{x,y} = expect to see this x-y amounts of the precedng code"
   ]
  },
  {
   "cell_type": "markdown",
   "metadata": {},
   "source": [
    "### White Space Charts:\n",
    "\n",
    "\\n = new line\n",
    "\n",
    "\\s = space\n",
    "\n",
    "\\t = tab\n",
    "\n",
    "\\e = escape\n",
    "\n",
    "\\f = form feed\n",
    "\n",
    "\\r = carriage return\n"
   ]
  },
  {
   "cell_type": "markdown",
   "metadata": {},
   "source": [
    "### Characters to REMEMBER TO ESCAPE IF USED!\n",
    "\n",
    ". + * ? [ ] $ ^ ( ) { } | \\"
   ]
  },
  {
   "cell_type": "markdown",
   "metadata": {},
   "source": [
    "#### The below programs have the text lines from which we going to extract a data which starts from numbers(points)."
   ]
  },
  {
   "cell_type": "code",
   "execution_count": 22,
   "metadata": {},
   "outputs": [
    {
     "name": "stdout",
     "output_type": "stream",
     "text": [
      "hi this is a testing of a program\n",
      "        1. hello\n",
      "        2. hi it is a program where to find the new\n"
     ]
    }
   ],
   "source": [
    "a = \"\"\"hi this is a testing of a program\n",
    "        1. hello\n",
    "        2. hi it is a program where to find the new\"\"\"\n",
    "print(a)"
   ]
  },
  {
   "cell_type": "code",
   "execution_count": 23,
   "metadata": {},
   "outputs": [
    {
     "name": "stdout",
     "output_type": "stream",
     "text": [
      "['1. hello', '2. hi it is a program where to find the new']\n"
     ]
    }
   ],
   "source": [
    "b = re.findall(r'[\\d].*', a)\n",
    "print(b)"
   ]
  },
  {
   "cell_type": "code",
   "execution_count": null,
   "metadata": {},
   "outputs": [],
   "source": []
  }
 ],
 "metadata": {
  "kernelspec": {
   "display_name": "Python 3",
   "language": "python",
   "name": "python3"
  },
  "language_info": {
   "codemirror_mode": {
    "name": "ipython",
    "version": 3
   },
   "file_extension": ".py",
   "mimetype": "text/x-python",
   "name": "python",
   "nbconvert_exporter": "python",
   "pygments_lexer": "ipython3",
   "version": "3.7.4"
  }
 },
 "nbformat": 4,
 "nbformat_minor": 2
}

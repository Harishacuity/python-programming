{
 "cells": [
  {
   "cell_type": "code",
   "execution_count": null,
   "metadata": {},
   "outputs": [],
   "source": [
    "Hi guys today we going to see the below problem from thinkpython exercise"
   ]
  },
  {
   "cell_type": "markdown",
   "metadata": {},
   "source": [
    "Write a definition for a class named Kangaroo with the following methods:\n",
    "    \n",
    "1. An __init__ method that initializes an attribute named pouch_contents to an empty list.\n",
    "\n",
    "2. A method named put_in_pouch that takes an object of any type and adds it to\n",
    "pouch_contents .\n",
    "\n",
    "3. A __str__ method that returns a string representation of the Kangaroo object and the con-\n",
    "tents of the pouch."
   ]
  },
  {
   "cell_type": "code",
   "execution_count": 4,
   "metadata": {},
   "outputs": [],
   "source": [
    "class Kangaroo:    \n",
    "    def __init__(self, name, contents=None):\n",
    "        self.name = name\n",
    "        if contents == None:\n",
    "            contents = []\n",
    "        self.pouch_contents = contents\n",
    "\n",
    "    def __str__(self):#RETURNS A STRING REPRESENTATION OF CLASS\n",
    "        t = [ self.name + ' has pouch contents:' ]\n",
    "        for obj in self.pouch_contents:\n",
    "            s = '    ' + object.__str__(obj)\n",
    "            t.append(s)\n",
    "        return '\\n'.join(t)\n",
    "\n",
    "    def put_in_pouch(self, item):#Adds a new item to the pouch contents.\n",
    "        self.pouch_contents.append(item)\n",
    "\n",
    "\n"
   ]
  },
  {
   "cell_type": "markdown",
   "metadata": {},
   "source": [
    "In the __init__ part of the program we used the None for contents and used the condition,\n",
    "\n",
    "because if we not use this kind of condition then another object also get modified\n",
    "\n",
    "i.e from the below instantiation......\n",
    "\n",
    "kanga and roo is instantiated to the class\n",
    "\n",
    "kanga object adds \"wallet and car keys and roo\"\n",
    "\n",
    "roo also get modified and gets added all those in kanga objects....\n",
    "\n",
    "Thats why we are using this kind of condition sothat it will initially gets None value and proceeds"
   ]
  },
  {
   "cell_type": "code",
   "execution_count": 7,
   "metadata": {},
   "outputs": [
    {
     "name": "stdout",
     "output_type": "stream",
     "text": [
      "Kanga has pouch contents:\n",
      "    'wallet'\n",
      "    'car keys'\n",
      "    <__main__.Kangaroo object at 0x7f85d0680358>\n",
      "\n",
      "\n",
      "Roo has pouch contents:\n"
     ]
    }
   ],
   "source": [
    "kanga = Kangaroo('Kanga')\n",
    "roo = Kangaroo('Roo')\n",
    "kanga.put_in_pouch('wallet')\n",
    "kanga.put_in_pouch('car keys')\n",
    "kanga.put_in_pouch(roo)\n",
    "\n",
    "print(kanga)\n",
    "print('\\n')\n",
    "print(roo)"
   ]
  },
  {
   "cell_type": "code",
   "execution_count": null,
   "metadata": {},
   "outputs": [],
   "source": []
  }
 ],
 "metadata": {
  "kernelspec": {
   "display_name": "Python 3",
   "language": "python",
   "name": "python3"
  },
  "language_info": {
   "codemirror_mode": {
    "name": "ipython",
    "version": 3
   },
   "file_extension": ".py",
   "mimetype": "text/x-python",
   "name": "python",
   "nbconvert_exporter": "python",
   "pygments_lexer": "ipython3",
   "version": "3.6.8"
  }
 },
 "nbformat": 4,
 "nbformat_minor": 2
}

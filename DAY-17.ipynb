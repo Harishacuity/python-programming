{
 "cells": [
  {
   "cell_type": "markdown",
   "metadata": {},
   "source": [
    "### Hi guys... Today we going to see the below problem\n",
    "\n",
    "Write a function called mul_time that takes a Time object and a number and returns\n",
    "a new Time object that contains the product of the original Time and the number.\n",
    "\n",
    "Then use mul_time to write a function that takes a Time object that represents the finishing time\n",
    "in a race, and a number that represents the distance, and returns a Time object that represents the\n",
    "average pace (time per mile)."
   ]
  },
  {
   "cell_type": "code",
   "execution_count": 1,
   "metadata": {},
   "outputs": [],
   "source": [
    "class Time: #creating a class named Time\n",
    "    \"\"\"Represents the time of the day.\n",
    "    attributes: hour, minute, seconds\"\"\"\n",
    "    "
   ]
  },
  {
   "cell_type": "code",
   "execution_count": 2,
   "metadata": {},
   "outputs": [],
   "source": [
    "def valid_time(time): #CHecking whether the time has proper values\n",
    "    if time.hour < 0 or 0>time.minutes>=60 or 0>time.seconds>=60:\n",
    "        return False\n",
    "    return True"
   ]
  },
  {
   "cell_type": "code",
   "execution_count": 3,
   "metadata": {},
   "outputs": [],
   "source": [
    "def print_time(time): #prints time in proper format\n",
    "    return ('%.2d:%.2d:%.2d')%(time.hour,time.minutes,time.seconds)"
   ]
  },
  {
   "cell_type": "code",
   "execution_count": 4,
   "metadata": {},
   "outputs": [],
   "source": [
    "def time_to_int(time):#convert the time into seconds in integer\n",
    "    minutes = time.hour*60 + time.minutes\n",
    "    seconds = minutes*60 + time.seconds\n",
    "    return seconds\n",
    "\n",
    "def int_to_time(seconds):#covert the seconds into proper time\n",
    "    time = Time()\n",
    "    minutes,time.seconds = divmod(seconds,60)\n",
    "    time.hour, time.minutes = divmod(minutes, 60)\n",
    "    return print_time(time)"
   ]
  },
  {
   "cell_type": "code",
   "execution_count": 5,
   "metadata": {},
   "outputs": [],
   "source": [
    "def mul_time(time,number): #creating this function to do multiplication time with other number. \n",
    "    assert valid_time(time) #checks the conditions and raises an exception if it fails\n",
    "    product = time_to_int(time) * number\n",
    "    return int_to_time(product)\n",
    "    "
   ]
  },
  {
   "cell_type": "code",
   "execution_count": 16,
   "metadata": {},
   "outputs": [],
   "source": [
    "finishing_time = Time() #creating object to the class that has time taken to finish the race\n",
    "finishing_time.hour = 1\n",
    "finishing_time.minutes = 5\n",
    "finishing_time.seconds = 10\n",
    "\n",
    "distance = 10 #10 miles is the distance covered"
   ]
  },
  {
   "cell_type": "code",
   "execution_count": 17,
   "metadata": {},
   "outputs": [],
   "source": [
    "def time_per_mile(timetaken,distance): #creating a function that gives time per mile from the given time nad distance\n",
    "    print('Time per mile = ', end = '')\n",
    "    print(mul_time(timetaken, 1/distance))\n",
    "    "
   ]
  },
  {
   "cell_type": "code",
   "execution_count": 18,
   "metadata": {},
   "outputs": [
    {
     "name": "stdout",
     "output_type": "stream",
     "text": [
      "Time per mile = 00:06:31\n"
     ]
    }
   ],
   "source": [
    "time_per_mile(finishing_time, distance)"
   ]
  },
  {
   "cell_type": "code",
   "execution_count": null,
   "metadata": {},
   "outputs": [],
   "source": []
  }
 ],
 "metadata": {
  "kernelspec": {
   "display_name": "Python 3",
   "language": "python",
   "name": "python3"
  },
  "language_info": {
   "codemirror_mode": {
    "name": "ipython",
    "version": 3
   },
   "file_extension": ".py",
   "mimetype": "text/x-python",
   "name": "python",
   "nbconvert_exporter": "python",
   "pygments_lexer": "ipython3",
   "version": "3.5.2"
  }
 },
 "nbformat": 4,
 "nbformat_minor": 2
}

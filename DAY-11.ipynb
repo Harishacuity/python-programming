{
 "cells": [
  {
   "cell_type": "markdown",
   "metadata": {},
   "source": [
    "Hi.... \n",
    "\n",
    "Here the following program gives the word from the given letters within the list."
   ]
  },
  {
   "cell_type": "code",
   "execution_count": 6,
   "metadata": {},
   "outputs": [],
   "source": [
    "'''creating a function named uses_only which has two arguements word and string \n",
    "    that checks the letters in words and returns true or false'''\n",
    "\n",
    "def uses_only(word, string):\n",
    "    for i in word:\n",
    "        if i not in string:\n",
    "            return False\n",
    "    return True"
   ]
  },
  {
   "cell_type": "code",
   "execution_count": 7,
   "metadata": {},
   "outputs": [
    {
     "name": "stdout",
     "output_type": "stream",
     "text": [
      "From what letters do u need to create a word: cla\n",
      "aa\n",
      "aal\n",
      "ala\n",
      "all\n",
      "call\n",
      "calla\n",
      "la\n",
      "lac\n",
      "lall\n",
      "9\n"
     ]
    }
   ],
   "source": [
    "fin = open('words.txt') #opens a text file\n",
    "a = input('From what letters do u need to create a word: ') #get input from a user from which letters the word should\n",
    "count = 0\n",
    "for line in fin: #iterates the text file line by line\n",
    "    word = line.strip() #removes \\n\n",
    "    if uses_only(word, a): #condition to check\n",
    "        count+=1\n",
    "        print(word)\n",
    "print(count) #it counts the number of words \n"
   ]
  },
  {
   "cell_type": "code",
   "execution_count": null,
   "metadata": {},
   "outputs": [],
   "source": []
  }
 ],
 "metadata": {
  "kernelspec": {
   "display_name": "Python 3",
   "language": "python",
   "name": "python3"
  },
  "language_info": {
   "codemirror_mode": {
    "name": "ipython",
    "version": 3
   },
   "file_extension": ".py",
   "mimetype": "text/x-python",
   "name": "python",
   "nbconvert_exporter": "python",
   "pygments_lexer": "ipython3",
   "version": "3.5.2"
  }
 },
 "nbformat": 4,
 "nbformat_minor": 2
}

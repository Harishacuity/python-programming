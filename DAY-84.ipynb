{
 "cells": [
  {
   "cell_type": "markdown",
   "metadata": {},
   "source": [
    "### NumPy program to compute logarithm of the sum of exponentiations of the inputs, sum of exponentiations of the inputs in base-2."
   ]
  },
  {
   "cell_type": "code",
   "execution_count": 1,
   "metadata": {},
   "outputs": [
    {
     "name": "stdout",
     "output_type": "stream",
     "text": [
      "Logarithm of the sum of exponentiations:\n",
      "-113.87649168120691\n",
      "Logarithm of the sum of exponentiations of the inputs in base-2:\n",
      "-113.59955522772194\n"
     ]
    }
   ],
   "source": [
    "import numpy as np\n",
    "l1 = np.log(1e-50)\n",
    "l2 = np.log(2.5e-50)\n",
    "print(\"Logarithm of the sum of exponentiations:\")\n",
    "print(np.logaddexp(l1, l2))\n",
    "print(\"Logarithm of the sum of exponentiations of the inputs in base-2:\")\n",
    "print(np.logaddexp2(l1, l2))\n"
   ]
  },
  {
   "cell_type": "code",
   "execution_count": null,
   "metadata": {},
   "outputs": [],
   "source": []
  }
 ],
 "metadata": {
  "kernelspec": {
   "display_name": "Python 3",
   "language": "python",
   "name": "python3"
  },
  "language_info": {
   "codemirror_mode": {
    "name": "ipython",
    "version": 3
   },
   "file_extension": ".py",
   "mimetype": "text/x-python",
   "name": "python",
   "nbconvert_exporter": "python",
   "pygments_lexer": "ipython3",
   "version": "3.6.9"
  }
 },
 "nbformat": 4,
 "nbformat_minor": 2
}

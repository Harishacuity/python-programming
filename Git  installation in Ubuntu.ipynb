{
 "cells": [
  {
   "cell_type": "markdown",
   "metadata": {},
   "source": [
    "# STEP 1 - Open the terminal in ubuntu and give the following command"
   ]
  },
  {
   "cell_type": "markdown",
   "metadata": {},
   "source": [
    "#### ------>sudo apt-get install git"
   ]
  },
  {
   "cell_type": "markdown",
   "metadata": {},
   "source": [
    "### what is  'git-all' besides 'git'\n",
    "basic things are same between those. so based on the requirements you can install.\n",
    "for further info checkout the following  links\n",
    "\n",
    "https://askubuntu.com/questions/796600/difference-between-installing-git-vs-installing-git-all/796682\n",
    "\n",
    "\n",
    "\n"
   ]
  },
  {
   "cell_type": "markdown",
   "metadata": {},
   "source": [
    "# STEP 2 - Creating an account in Github"
   ]
  },
  {
   "cell_type": "markdown",
   "metadata": {},
   "source": [
    "Now go to \"github.com\" and create an account.\n",
    "\n"
   ]
  },
  {
   "cell_type": "markdown",
   "metadata": {},
   "source": [
    "# STEP 3 - configure username and email id in ubuntu"
   ]
  },
  {
   "cell_type": "markdown",
   "metadata": {},
   "source": [
    "After finishing step 2, go to the ubuntu terminal and configure the username and email id that you created previously in github "
   ]
  },
  {
   "cell_type": "markdown",
   "metadata": {},
   "source": [
    "use the following commands"
   ]
  },
  {
   "cell_type": "markdown",
   "metadata": {},
   "source": [
    "------> git config --global user.name \"username you created in github\"\n",
    "\n",
    "\n",
    "------> git config --global user.email \"mailid you provided in github\""
   ]
  },
  {
   "cell_type": "markdown",
   "metadata": {},
   "source": [
    "# STEP 4 - Creating repository in github"
   ]
  },
  {
   "cell_type": "markdown",
   "metadata": {},
   "source": [
    "#### Repository: A repository is a data structure which stores metadata for a set of files or directory structure."
   ]
  },
  {
   "cell_type": "markdown",
   "metadata": {},
   "source": [
    "In github there is a \"+\" symbol in the top right of the window.\n",
    "\n",
    "Through that create a new repository. \n",
    "\n",
    "After giving the repository name ( lets say \"new-repo\"), check the \"public\" or \"private\" based on your requirement\n",
    "\n",
    "if you want to use \"private\" there are some charges to use it.\n",
    "\n",
    "But \"public\" is free.\n",
    "\n",
    "Its DONE!!\n",
    "\n",
    "NEW REPOSITORY CREATED\n"
   ]
  },
  {
   "cell_type": "markdown",
   "metadata": {},
   "source": [
    "# STEP 5 - Accesing repostiory through ubuntu"
   ]
  },
  {
   "cell_type": "markdown",
   "metadata": {},
   "source": [
    "Create a \"directory\" in the \"home\" folder"
   ]
  },
  {
   "cell_type": "markdown",
   "metadata": {},
   "source": [
    "#### ------> mkdir new-repo "
   ]
  },
  {
   "cell_type": "markdown",
   "metadata": {},
   "source": [
    "The above will create \"new-repo\" directory, it is same name as we created in github website "
   ]
  },
  {
   "cell_type": "markdown",
   "metadata": {},
   "source": [
    "now give \"ls\" command in the terminal. It will show the list of the directoris in Home."
   ]
  },
  {
   "cell_type": "markdown",
   "metadata": {},
   "source": [
    "go inside the  \"new-repo\" directoy using following command "
   ]
  },
  {
   "cell_type": "markdown",
   "metadata": {},
   "source": [
    "------> cd new-repo"
   ]
  },
  {
   "cell_type": "markdown",
   "metadata": {},
   "source": [
    "Again you can use the \"ls\" command to list the containing files in the directory"
   ]
  },
  {
   "cell_type": "markdown",
   "metadata": {},
   "source": [
    "# STEP-6 Using terminal to do the changes in the Repositories"
   ]
  },
  {
   "cell_type": "markdown",
   "metadata": {},
   "source": [
    "### After the step 4 You see the new window which gives you the instructions on how to use in the terminal.\n",
    "\n",
    "but if you checked the \"initialise README\" in the step 4 process then the above instructions will not be shown. \n",
    "\n",
    "no issues if it not shown since it is just the instructions you can practice yourself. \n",
    "\n",
    "I writedown the steps in the Instructions if you missed:\n",
    "    \n",
    "1. The main idea is to create or make changes in the local created directory(i.e here \"new-repo\") and pushing it to our repository in  github.\n",
    "\n",
    "2. Do some changes in the \"new-repo\" directory, lets say creating a new text file named \"project_description\" in the directory.\n",
    "    \n",
    "3. Now see that in the  terminal that you are in the \"new-repo\" directory.\n",
    "\n",
    "4. Now give \"ls\" command to check that the text file is present in that directory.\n",
    "\n",
    "5. To start the git we need to initialise it. to do that we give the below command\n",
    "\n",
    "      ------> git init\n",
    "\n",
    "    (It can be used to convert an existing, unversioned project to a Git repository or initialize a new, empty repository. \n",
    "     Most other Git commands are not available outside of an initialized repository, so this is usually the first command you'll run in a new project.)\n",
    "\n",
    "\n",
    "6. Now add the created file to the git\n",
    "\n",
    "     ------> git add project_description.txt\n",
    "\n",
    "7. now  commit the changes using the command\n",
    "\n",
    "      ------> git commit -m 'added a new textfile'\n",
    "\n",
    "     we can provide the small hints what we changed from previous one using ''\n",
    "\n",
    "8. now we need to make changes to the github repository that we created previously\n",
    "\n",
    "     ------->git remote add origin https://github.com/username_you_created/new-repo.git\n",
    "\n",
    "     (it will link the local directory and the github directory)\n",
    "\n",
    "9. now need to push\n",
    "\n",
    "    ----->git push -u origin master\n",
    "\n",
    "    after giving the above command it will ask for the username and password that we created \n",
    "\n",
    "   (for clarification in push command goto the following link -\n",
    "   https://stackoverflow.com/questions/29858663/what-is-the-difference-between-git-push-and-git-push-origin-master?lq=1)\n",
    "\n",
    "    \n",
    "After refreshing the github you can see the file you added to it.\n",
    "    "
   ]
  },
  {
   "cell_type": "markdown",
   "metadata": {},
   "source": [
    "usefull links to know about git commands\n",
    "\n",
    "url link: https://dzone.com/articles/top-20-git-commands-with-examples\n",
    "    "
   ]
  },
  {
   "cell_type": "code",
   "execution_count": null,
   "metadata": {},
   "outputs": [],
   "source": []
  },
  {
   "cell_type": "code",
   "execution_count": null,
   "metadata": {},
   "outputs": [],
   "source": []
  },
  {
   "cell_type": "code",
   "execution_count": null,
   "metadata": {},
   "outputs": [],
   "source": []
  },
  {
   "cell_type": "code",
   "execution_count": null,
   "metadata": {},
   "outputs": [],
   "source": []
  },
  {
   "cell_type": "code",
   "execution_count": null,
   "metadata": {},
   "outputs": [],
   "source": []
  }
 ],
 "metadata": {
  "kernelspec": {
   "display_name": "Python 3",
   "language": "python",
   "name": "python3"
  },
  "language_info": {
   "codemirror_mode": {
    "name": "ipython",
    "version": 3
   },
   "file_extension": ".py",
   "mimetype": "text/x-python",
   "name": "python",
   "nbconvert_exporter": "python",
   "pygments_lexer": "ipython3",
   "version": "3.5.2"
  }
 },
 "nbformat": 4,
 "nbformat_minor": 2
}

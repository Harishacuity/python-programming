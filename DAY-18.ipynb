{
 "cells": [
  {
   "cell_type": "markdown",
   "metadata": {},
   "source": [
    "#### Hello guys......\n",
    "\n",
    "Today got some essence of oops concept... Need to visualise more... it takes time...\n",
    "\n",
    "Ok \n",
    "\n",
    "Today i worked in:\n",
    "\n",
    "    > classes and methods\n",
    "   \n",
    "    > string methods\n",
    "    \n",
    "    > Operator overloading\n",
    "    \n",
    "    > Type-based dispatch\n",
    "    \n",
    "This program motive is to print the time in proper format and add the time if needed using class and methods.\n",
    "\n",
    "I've explained last three methods in the class, below after the program.\n",
    "\n",
    "\n",
    "why 'self' is used :\n",
    "\n",
    "• The syntax for a function call, print_time(start) , suggests that the function is the\n",
    "active agent. It says something like, “Hey print_time ! Here’s an object for you to\n",
    "print.”\n",
    "\n",
    "\n",
    "• In object-oriented programming, the objects are the active agents. A method invocation like start.print_time() says “Hey start ! Please print yourself.”\n",
    "\n",
    "\n"
   ]
  },
  {
   "cell_type": "code",
   "execution_count": 8,
   "metadata": {},
   "outputs": [],
   "source": [
    "class Time:\n",
    "    def __init__(self, hour,minutes,seconds): #initialising the attributes to the class\n",
    "        self.hour = hour\n",
    "        self.minutes = minutes\n",
    "        self.seconds = seconds\n",
    "    \n",
    "    \n",
    "    def print_time(self):  #this method is used to give the proper format of Time\n",
    "        print('%.2d:%.2d:%.2d'%(self.hour,self.minutes,self.seconds))\n",
    "    \n",
    "    def time_to_int(self): # This method is used to provide the totla seconds from the given time format\n",
    "        minutes = (self.hour * 60) + self.minutes\n",
    "        seconds = (minutes* 60) + self.seconds\n",
    "        return seconds\n",
    "    \n",
    "    def int_to_time(self,second): #this method is used to give the time output from the given seconds\n",
    "        minutes,self.seconds = divmod(second,60)\n",
    "        self.hour,self.minutes = divmod(minutes,60)\n",
    "        return self.print_time()\n",
    "    \n",
    "    def increment(self,seconds): # this method is used to add the larger seconds to the time\n",
    "        seconds += self.time_to_int()\n",
    "        return self.int_to_time(seconds)\n",
    "    \n",
    "    def is_after(self, other): #This method checks whether one time object comes after another.\n",
    "        return self.time_to_int() > other.time_to_int()\n",
    "\n",
    "    def __str__(self):#This method is supposed to return a string representation of an object.\n",
    "        return '%.2d:%.2d:%.2d'%(self.hour,self.minutes,self.seconds)\n",
    "   \n",
    "          \n",
    "    def add_time(self,other):#This method is used to add two different time\n",
    "        seconds = self.time_to_int() + other.time_to_int()\n",
    "        return self.int_to_time(seconds)\n",
    "    \n",
    "    def __add__(self,other): #This method enbles '+' operator on Time objects.\n",
    "        if isinstance(other, Time):#it checks whether the 'other' is instance of 'Time' class.\n",
    "            return self.add_time(other) #if condition is true it adds the time\n",
    "        else:\n",
    "            return self.increment(other)#if the condition fails then increment method executed\n",
    "  \n",
    "    def __radd__(self, other):#This method is invoked when a Time object appears on the right side of the + operator\n",
    "        return self.__add__(other)\n"
   ]
  },
  {
   "cell_type": "markdown",
   "metadata": {},
   "source": [
    "## __str__ method"
   ]
  },
  {
   "cell_type": "markdown",
   "metadata": {},
   "source": [
    "#### When you print an object, Python invokes the str method. It is used in the above program."
   ]
  },
  {
   "cell_type": "code",
   "execution_count": 9,
   "metadata": {},
   "outputs": [
    {
     "name": "stdout",
     "output_type": "stream",
     "text": [
      "09:05:30\n"
     ]
    }
   ],
   "source": [
    "time = Time(hour = 9, minutes = 5 , seconds = 30) #instantiating object to a class\n",
    "print(time)"
   ]
  },
  {
   "cell_type": "markdown",
   "metadata": {},
   "source": [
    "If str method is not present in the time object then it prints the object address.."
   ]
  },
  {
   "cell_type": "code",
   "execution_count": 10,
   "metadata": {},
   "outputs": [],
   "source": [
    "class Sampletime:\n",
    "    \"\"\"giving sample\"\"\"\n",
    "    def __init__(self,hour,minutes,seconds):\n",
    "        self.hour = hour\n",
    "        self.minutes = minutes\n",
    "        self.seconds = seconds\n",
    "        "
   ]
  },
  {
   "cell_type": "code",
   "execution_count": 11,
   "metadata": {},
   "outputs": [
    {
     "name": "stdout",
     "output_type": "stream",
     "text": [
      "<__main__.Sampletime object at 0x7f27a0a0d7b8>\n"
     ]
    }
   ],
   "source": [
    "sample = Sampletime(hour = 9, minutes = 5 , seconds = 30)\n",
    "print(sample)"
   ]
  },
  {
   "cell_type": "markdown",
   "metadata": {},
   "source": [
    "## Operator overloading"
   ]
  },
  {
   "cell_type": "markdown",
   "metadata": {},
   "source": [
    "Operator overloading means if you define a method named __add__ for the Time class, you can use the + operator on Time objects.\n",
    "\n",
    "Changing the behavior of an operator so that it works with programmer-defined types is called operator overloading"
   ]
  },
  {
   "cell_type": "markdown",
   "metadata": {},
   "source": [
    "## Type-based dispatch"
   ]
  },
  {
   "cell_type": "markdown",
   "metadata": {},
   "source": [
    "\n",
    "In the previous section we added two Time objects, but you also might want to add an integer to a Time object. \n",
    "\n",
    "The following is a version of __add__ that checks the type of other and invokes either add_time or increment "
   ]
  },
  {
   "cell_type": "markdown",
   "metadata": {},
   "source": [
    "#### Invokes add_time method"
   ]
  },
  {
   "cell_type": "code",
   "execution_count": 12,
   "metadata": {},
   "outputs": [
    {
     "name": "stdout",
     "output_type": "stream",
     "text": [
      "10:45:00\n",
      "None\n"
     ]
    }
   ],
   "source": [
    "start = Time(9,0,0)\n",
    "duration = Time(1,45,0)\n",
    "print(start + duration) "
   ]
  },
  {
   "cell_type": "markdown",
   "metadata": {},
   "source": [
    "#### Invokes increment method"
   ]
  },
  {
   "cell_type": "code",
   "execution_count": 13,
   "metadata": {},
   "outputs": [
    {
     "name": "stdout",
     "output_type": "stream",
     "text": [
      "11:00:00\n",
      "None\n"
     ]
    }
   ],
   "source": [
    "seconds_to_add = 7200\n",
    "time_sample = Time(9,0,0)\n",
    "print(time_sample + seconds_to_add)"
   ]
  },
  {
   "cell_type": "markdown",
   "metadata": {},
   "source": [
    "None is presened since the method is returning None value"
   ]
  },
  {
   "cell_type": "markdown",
   "metadata": {},
   "source": [
    "#### Unfortunately, this implementation of addition is not commutative. If the integer is the first operand"
   ]
  },
  {
   "cell_type": "markdown",
   "metadata": {},
   "source": [
    "------>print(second_to_add + time_sample)\n",
    "\n",
    "it returns the error\n",
    "\n",
    "------>TypeError: unsupported operand type(s) for +: 'int' and 'instance'"
   ]
  },
  {
   "cell_type": "markdown",
   "metadata": {},
   "source": [
    "#### The problem is, instead of asking the Time object to add an integer, Python is asking an integer to add a Time object, and it doesn’t know how"
   ]
  },
  {
   "cell_type": "markdown",
   "metadata": {},
   "source": [
    "#### the special method __radd__ , which stands for “right-side add”. This method is invoked when a Time object appears on the right side of the + operator"
   ]
  },
  {
   "cell_type": "code",
   "execution_count": 14,
   "metadata": {},
   "outputs": [
    {
     "name": "stdout",
     "output_type": "stream",
     "text": [
      "13:00:00\n",
      "None\n"
     ]
    }
   ],
   "source": [
    "print(seconds_to_add + time_sample)"
   ]
  },
  {
   "cell_type": "code",
   "execution_count": null,
   "metadata": {},
   "outputs": [],
   "source": []
  }
 ],
 "metadata": {
  "kernelspec": {
   "display_name": "Python 3",
   "language": "python",
   "name": "python3"
  },
  "language_info": {
   "codemirror_mode": {
    "name": "ipython",
    "version": 3
   },
   "file_extension": ".py",
   "mimetype": "text/x-python",
   "name": "python",
   "nbconvert_exporter": "python",
   "pygments_lexer": "ipython3",
   "version": "3.6.8"
  }
 },
 "nbformat": 4,
 "nbformat_minor": 2
}

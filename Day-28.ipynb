{
 "cells": [
  {
   "cell_type": "markdown",
   "metadata": {},
   "source": [
    "### Hi guys today i've seen some snippets and trying to get clear about how it works.."
   ]
  },
  {
   "cell_type": "markdown",
   "metadata": {},
   "source": [
    "#### splitting string into lists using regular expressions."
   ]
  },
  {
   "cell_type": "code",
   "execution_count": 16,
   "metadata": {},
   "outputs": [
    {
     "name": "stdout",
     "output_type": "stream",
     "text": [
      "the above string is splitted and with comma is used as delimiter \n",
      "  ['abc', 'def', 'ghi']\n",
      "abc\n",
      "def\n",
      "ghi\n"
     ]
    }
   ],
   "source": [
    "import re\n",
    "\n",
    "txt = 'abc, def, ghi'\n",
    "\n",
    "x=re.split(', *', txt)\n",
    "print('the above string is splitted and with comma is used as delimiter \\n ',x)\n",
    "\n",
    "for y in x:\n",
    "    print(y)"
   ]
  },
  {
   "cell_type": "markdown",
   "metadata": {},
   "source": [
    "#### pass by value or reference"
   ]
  },
  {
   "cell_type": "code",
   "execution_count": 19,
   "metadata": {},
   "outputs": [
    {
     "name": "stdout",
     "output_type": "stream",
     "text": [
      "  B[one] = 1\n",
      "  B[two] = 2\n"
     ]
    }
   ],
   "source": [
    "def f(X, k, v):\n",
    "    X[k] = str(v)\n",
    "\n",
    "A=dict()\n",
    "\n",
    "f(A, 'one', 1)\n",
    "\n",
    "B=A\n",
    "\n",
    "f(A, 'two', 2)\n",
    "\n",
    "for k in B:\n",
    "    print ((\"  B[\"+k+\"] = \") + B[k])"
   ]
  },
  {
   "cell_type": "code",
   "execution_count": null,
   "metadata": {},
   "outputs": [],
   "source": []
  }
 ],
 "metadata": {
  "kernelspec": {
   "display_name": "Python 3",
   "language": "python",
   "name": "python3"
  },
  "language_info": {
   "codemirror_mode": {
    "name": "ipython",
    "version": 3
   },
   "file_extension": ".py",
   "mimetype": "text/x-python",
   "name": "python",
   "nbconvert_exporter": "python",
   "pygments_lexer": "ipython3",
   "version": "3.5.2"
  }
 },
 "nbformat": 4,
 "nbformat_minor": 2
}

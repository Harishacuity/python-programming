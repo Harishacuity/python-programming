{
 "cells": [
  {
   "cell_type": "markdown",
   "metadata": {},
   "source": [
    "The mathematician Srinivasa Ramanujan found an infinite series that can be used to\n",
    "generate a numerical approximation of 1/π:\n"
   ]
  },
  {
   "cell_type": "markdown",
   "metadata": {},
   "source": [
    "<img src=\"img\" width=800 /> ![img](img)"
   ]
  },
  {
   "cell_type": "markdown",
   "metadata": {},
   "source": [
    "Write a function called estimate_pi that uses this formula to compute and return an estimate of\n",
    "π. It should use a while loop to compute terms of the summation until the last term is smaller than\n",
    "1e-15 (which is Python notation for 10 − 15 ). You can check the result by comparing it to math.pi"
   ]
  },
  {
   "cell_type": "markdown",
   "metadata": {},
   "source": [
    "## Answer"
   ]
  },
  {
   "cell_type": "markdown",
   "metadata": {},
   "source": [
    "#### I just seperated the equations and defined it to a individual functions as \"outside_equ()\" and \"summation()\"\n",
    "\n",
    "And created \"estimate_pi()\" function which multiplies the above functions."
   ]
  },
  {
   "cell_type": "markdown",
   "metadata": {},
   "source": [
    "#### Outside the summation equation"
   ]
  },
  {
   "cell_type": "code",
   "execution_count": 25,
   "metadata": {},
   "outputs": [
    {
     "data": {
      "text/plain": [
       "6"
      ]
     },
     "execution_count": 25,
     "metadata": {},
     "output_type": "execute_result"
    }
   ],
   "source": [
    "def fact(n): #creating function for a factorial\n",
    "    if n == 0:\n",
    "        return 1\n",
    "    else:\n",
    "        recurse = fact(n-1)\n",
    "#         print(recurse)\n",
    "        return (n*recurse)\n",
    "fact(3)"
   ]
  },
  {
   "cell_type": "code",
   "execution_count": 26,
   "metadata": {},
   "outputs": [
    {
     "data": {
      "text/plain": [
       "0.00028858556522254775"
      ]
     },
     "execution_count": 26,
     "metadata": {},
     "output_type": "execute_result"
    }
   ],
   "source": [
    "import math\n",
    "def outside_equ():  # creating the function for outside equation\n",
    "    c = (2*math.sqrt(2))/9801\n",
    "    return c\n",
    "outside_equ()"
   ]
  },
  {
   "cell_type": "code",
   "execution_count": 27,
   "metadata": {},
   "outputs": [],
   "source": [
    "def summation(): #creating function to solve the summation equation\n",
    "    k = 0\n",
    "    while True:\n",
    "        numer = (fact(4*k) * (1103 + 26390*k))\n",
    "        deno = (((fact(k))**4) * (396)**(4*k))\n",
    "        fract = numer/deno\n",
    "        if fract < (1e-15):\n",
    "            print (fract)\n",
    "            break\n",
    "        else:\n",
    "            k = k+1\n",
    "            return(fract)\n"
   ]
  },
  {
   "cell_type": "code",
   "execution_count": 28,
   "metadata": {},
   "outputs": [
    {
     "data": {
      "text/plain": [
       "0.31830987844047015"
      ]
     },
     "execution_count": 28,
     "metadata": {},
     "output_type": "execute_result"
    }
   ],
   "source": [
    "def estimate_pi(): \n",
    "    ans = outside_equ()*summation()\n",
    "    return ans\n",
    "estimate_pi()"
   ]
  },
  {
   "cell_type": "code",
   "execution_count": 29,
   "metadata": {},
   "outputs": [
    {
     "name": "stdout",
     "output_type": "stream",
     "text": [
      "0.3183098861837907\n"
     ]
    }
   ],
   "source": [
    "LHS= 1/math.pi \n",
    "print(LHS)"
   ]
  },
  {
   "cell_type": "code",
   "execution_count": 30,
   "metadata": {},
   "outputs": [
    {
     "name": "stdout",
     "output_type": "stream",
     "text": [
      "0.31830987844047015\n"
     ]
    }
   ],
   "source": [
    "RHS=estimate_pi()\n",
    "print(RHS)"
   ]
  },
  {
   "cell_type": "code",
   "execution_count": null,
   "metadata": {},
   "outputs": [],
   "source": []
  }
 ],
 "metadata": {
  "kernelspec": {
   "display_name": "Python 3",
   "language": "python",
   "name": "python3"
  },
  "language_info": {
   "codemirror_mode": {
    "name": "ipython",
    "version": 3
   },
   "file_extension": ".py",
   "mimetype": "text/x-python",
   "name": "python",
   "nbconvert_exporter": "python",
   "pygments_lexer": "ipython3",
   "version": "3.5.2"
  }
 },
 "nbformat": 4,
 "nbformat_minor": 2
}

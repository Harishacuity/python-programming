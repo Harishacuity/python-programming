{
 "cells": [
  {
   "cell_type": "markdown",
   "metadata": {},
   "source": [
    "### Hi guys, Today i've seen the program to check the names and the foods eaten"
   ]
  },
  {
   "cell_type": "code",
   "execution_count": 1,
   "metadata": {},
   "outputs": [
    {
     "name": "stdout",
     "output_type": "stream",
     "text": [
      "Height of Ram is 6\n",
      "Weight of Ram is 60\n",
      "Ram is eating Pizza\n",
      "Weight of Steve is 5.9\n",
      "Weight of Steve is 56\n",
      "Steve is eating Big Kahuna Burger\n"
     ]
    }
   ],
   "source": [
    "class Human:\n",
    "    # instance attributes\n",
    "    def __init__(self, name, height, weight):\n",
    "        self.name = name\n",
    "        self.height = height\n",
    "        self.weight = weight\n",
    "\n",
    "    # instance methods (behaviours)\n",
    "    def eating(self, food):\n",
    "        return \"{} is eating {}\".format(self.name, food)\n",
    "\n",
    "\n",
    "# creating objects of class Human\n",
    "ram = Human(\"Ram\", 6, 60)\n",
    "steve = Human(\"Steve\", 5.9, 56)\n",
    "\n",
    "# accessing object information\n",
    "print(\"Height of {} is {}\".format(ram.name, ram.height))\n",
    "print(\"Weight of {} is {}\".format(ram.name, ram.weight))\n",
    "print(ram.eating(\"Pizza\"))\n",
    "print(\"Weight of {} is {}\".format(steve.name, steve.height))\n",
    "print(\"Weight of {} is {}\".format(steve.name, steve.weight))\n",
    "print(steve.eating(\"Big Kahuna Burger\"))"
   ]
  },
  {
   "cell_type": "code",
   "execution_count": null,
   "metadata": {},
   "outputs": [],
   "source": []
  }
 ],
 "metadata": {
  "kernelspec": {
   "display_name": "Python 3",
   "language": "python",
   "name": "python3"
  },
  "language_info": {
   "codemirror_mode": {
    "name": "ipython",
    "version": 3
   },
   "file_extension": ".py",
   "mimetype": "text/x-python",
   "name": "python",
   "nbconvert_exporter": "python",
   "pygments_lexer": "ipython3",
   "version": "3.6.8"
  }
 },
 "nbformat": 4,
 "nbformat_minor": 2
}

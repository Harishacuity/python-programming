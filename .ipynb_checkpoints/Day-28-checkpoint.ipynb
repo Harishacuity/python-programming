{
 "cells": [
  {
   "cell_type": "markdown",
   "metadata": {},
   "source": [
    "### Hi guys today i've seen some snippets and trying to get clear about how it works.."
   ]
  },
  {
   "cell_type": "markdown",
   "metadata": {},
   "source": [
    "#### splitting string into lists using regular expressions."
   ]
  },
  {
   "cell_type": "code",
   "execution_count": 16,
   "metadata": {},
   "outputs": [
    {
     "name": "stdout",
     "output_type": "stream",
     "text": [
      "the above string is splitted and with comma is used as delimiter \n",
      "  ['abc', 'def', 'ghi']\n",
      "abc\n",
      "def\n",
      "ghi\n"
     ]
    }
   ],
   "source": [
    "import re\n",
    "\n",
    "txt = 'abc, def, ghi'\n",
    "\n",
    "x=re.split(', *', txt)\n",
    "print('the above string is splitted and with comma is used as delimiter \\n ',x)\n",
    "\n",
    "for y in x:\n",
    "    print(y)"
   ]
  },
  {
   "cell_type": "markdown",
   "metadata": {},
   "source": [
    "#### pass by value or reference"
   ]
  },
  {
   "cell_type": "code",
   "execution_count": 2,
   "metadata": {},
   "outputs": [
    {
     "name": "stdout",
     "output_type": "stream",
     "text": [
      "  B[one] = 1\n",
      "  B[two] = 2\n"
     ]
    }
   ],
   "source": [
    "def f(X, k, v):\n",
    "    X[k] = str(v)\n",
    "\n",
    "A=dict()\n",
    "\n",
    "f(A, 'one', 1) #it adds a key and value to the dictionary as mentioned in the above function.\n",
    "\n",
    "B=A #assigning the 'A' dictionary to 'B'\n",
    "\n",
    "f(A, 'two', 2)\n",
    "\n",
    "for k in B:\n",
    "    a = k\n",
    "    print ((\"  B[\"+k+\"] = \") + B[k]) # to get clear kindly see below "
   ]
  },
  {
   "cell_type": "markdown",
   "metadata": {},
   "source": [
    "#### In the above program i explained the last statement in the below...."
   ]
  },
  {
   "cell_type": "code",
   "execution_count": 8,
   "metadata": {},
   "outputs": [
    {
     "name": "stdout",
     "output_type": "stream",
     "text": [
      "two\n",
      "B[two] = \n"
     ]
    }
   ],
   "source": [
    "print(a)\n",
    "print(\"B[\"+a+\"] = \") \n",
    "#so we are just printing the dictionary like appearance by giving the 'key' i.e here 'a' into the 'B[\"+a+\"] = ' \n",
    "\n"
   ]
  },
  {
   "cell_type": "code",
   "execution_count": 7,
   "metadata": {},
   "outputs": [
    {
     "name": "stdout",
     "output_type": "stream",
     "text": [
      "2\n"
     ]
    }
   ],
   "source": [
    "print(B[k])"
   ]
  },
  {
   "cell_type": "markdown",
   "metadata": {},
   "source": [
    "#### so atlast we are iterating the key and concatenate the value to the respected key..."
   ]
  },
  {
   "cell_type": "code",
   "execution_count": 10,
   "metadata": {},
   "outputs": [
    {
     "name": "stdout",
     "output_type": "stream",
     "text": [
      "  B[one] = 1\n",
      "  B[two] = 2\n"
     ]
    }
   ],
   "source": [
    "for k in B:\n",
    "    a = k\n",
    "    print ((\"  B[\"+k+\"] = \") + B[k])"
   ]
  },
  {
   "cell_type": "code",
   "execution_count": null,
   "metadata": {},
   "outputs": [],
   "source": []
  }
 ],
 "metadata": {
  "kernelspec": {
   "display_name": "Python 3",
   "language": "python",
   "name": "python3"
  },
  "language_info": {
   "codemirror_mode": {
    "name": "ipython",
    "version": 3
   },
   "file_extension": ".py",
   "mimetype": "text/x-python",
   "name": "python",
   "nbconvert_exporter": "python",
   "pygments_lexer": "ipython3",
   "version": "3.5.2"
  }
 },
 "nbformat": 4,
 "nbformat_minor": 2
}

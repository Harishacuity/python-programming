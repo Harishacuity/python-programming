{
 "cells": [
  {
   "cell_type": "markdown",
   "metadata": {},
   "source": [
    "# Variables, Expressions and Statements"
   ]
  },
  {
   "cell_type": "markdown",
   "metadata": {},
   "source": [
    "## 2.1 Assignment statements"
   ]
  },
  {
   "cell_type": "markdown",
   "metadata": {},
   "source": [
    "An assignment statement creates a new variable and gives it a value."
   ]
  },
  {
   "cell_type": "code",
   "execution_count": 2,
   "metadata": {},
   "outputs": [
    {
     "name": "stdout",
     "output_type": "stream",
     "text": [
      "1\n",
      "apple\n",
      "3.14\n"
     ]
    }
   ],
   "source": [
    "a = 1\n",
    "b ='apple'\n",
    "c = 3.14\n",
    "print(a)\n",
    "print(b)\n",
    "print(c)"
   ]
  },
  {
   "cell_type": "markdown",
   "metadata": {},
   "source": [
    "1. Variable name can be anything except starting with the numbers like \"3a\".\n",
    "\n",
    "2. But variable like 'a3' is valid one.\n",
    "\n",
    "3. keyword should not be a variable.\n",
    "\n",
    "4. Special Character also not used in variable.\n",
    "\n",
    "Keyword to avoid:\n",
    "False,\n",
    "class,\n",
    "finally,\n",
    "is,\n",
    "return,\n",
    "None,\n",
    "continue,\n",
    "for,\n",
    "lambda,\n",
    "try,\n",
    "True,\n",
    "def,\n",
    "from,\n",
    "nonlocal,\n",
    "while,\n",
    "and,\n",
    "del,\n",
    "global,\n",
    "not,\n",
    "with,\n",
    "as,\n",
    "elif,\n",
    "if,\n",
    "or,\n",
    "yield,\n",
    "assert,\n",
    "else,\n",
    "import,\n",
    "pass,\n",
    "break,\n",
    "except,\n",
    "in,\n",
    "raise."
   ]
  },
  {
   "cell_type": "markdown",
   "metadata": {},
   "source": [
    "## 2.3 Expressions and statements"
   ]
  },
  {
   "cell_type": "markdown",
   "metadata": {},
   "source": [
    "An expression is a combination of values, variables, and operators."
   ]
  },
  {
   "cell_type": "code",
   "execution_count": 3,
   "metadata": {},
   "outputs": [
    {
     "data": {
      "text/plain": [
       "20"
      ]
     },
     "execution_count": 3,
     "metadata": {},
     "output_type": "execute_result"
    }
   ],
   "source": [
    "10+10"
   ]
  },
  {
   "cell_type": "markdown",
   "metadata": {},
   "source": [
    "A statement is a unit of code that has an effect, like creating a variable or displaying a\n",
    "value.\n",
    "\n",
    "statements don’t have values"
   ]
  },
  {
   "cell_type": "code",
   "execution_count": 5,
   "metadata": {},
   "outputs": [
    {
     "name": "stdout",
     "output_type": "stream",
     "text": [
      "11\n"
     ]
    }
   ],
   "source": [
    "a = 1\n",
    "print(a+10)"
   ]
  },
  {
   "cell_type": "markdown",
   "metadata": {},
   "source": [
    "## 2.4 Script mode"
   ]
  },
  {
   "cell_type": "markdown",
   "metadata": {},
   "source": [
    "Interactive mode is used when an user wants to run one single line or one block of code. It runs very quickly and gives the output instantly. \n",
    "\n",
    "\n",
    "Script Mode, on the other hand , is used when the user is working with more than one single code or a block of code.\n"
   ]
  },
  {
   "cell_type": "code",
   "execution_count": null,
   "metadata": {},
   "outputs": [],
   "source": []
  },
  {
   "cell_type": "markdown",
   "metadata": {},
   "source": [
    "## 2.5 Order of operations"
   ]
  },
  {
   "cell_type": "markdown",
   "metadata": {},
   "source": [
    "Python follows mathematical convention. The acronym PEMDAS is a useful way to remember the rules"
   ]
  },
  {
   "cell_type": "markdown",
   "metadata": {},
   "source": [
    "• Parentheses have the highest precedence \"\"()\"\"\n",
    "\n",
    "• Exponentiation has the next highest precedence, so 1 + 2**3 is 9, not 27, and 2 *\n",
    "3**2 is 18, not 36.\n",
    "\n",
    "• Multiplication and Division have higher precedence than Addition and Subtraction.\n",
    "So 2*3-1 is 5, not 4, and 6+4/2 is 8, not 5.\n",
    "\n",
    "• Operators with the same precedence are evaluated from left to right (except exponen-\n",
    "tiation). So in the expression degrees / 2 * pi , the division happens first and the\n",
    "result is multiplied by pi . To divide by 2π, you can use parentheses or write degrees\n",
    "/ 2 / pi or /(2*pi).\n",
    "\n",
    "I don’t work very hard to remember the precedence of operators. If I can’t tell by looking\n",
    "at the expression, I use parentheses to make it obvious."
   ]
  },
  {
   "cell_type": "code",
   "execution_count": null,
   "metadata": {},
   "outputs": [],
   "source": []
  },
  {
   "cell_type": "markdown",
   "metadata": {},
   "source": [
    "## 2.6 String operations"
   ]
  },
  {
   "cell_type": "markdown",
   "metadata": {},
   "source": [
    "Two operators works on strings \n",
    "1. \"\"+\"\"\n",
    "\n",
    "2. \"\"*\"\""
   ]
  },
  {
   "cell_type": "markdown",
   "metadata": {},
   "source": [
    "'+' used to concatenate the strings"
   ]
  },
  {
   "cell_type": "code",
   "execution_count": 7,
   "metadata": {},
   "outputs": [
    {
     "name": "stdout",
     "output_type": "stream",
     "text": [
      "hi hello\n"
     ]
    }
   ],
   "source": [
    "print('hi'+' hello')"
   ]
  },
  {
   "cell_type": "markdown",
   "metadata": {},
   "source": [
    "Astrics can be used to print the string to the times of the number given."
   ]
  },
  {
   "cell_type": "code",
   "execution_count": 8,
   "metadata": {},
   "outputs": [
    {
     "name": "stdout",
     "output_type": "stream",
     "text": [
      "hi!!hi!!hi!!\n"
     ]
    }
   ],
   "source": [
    "print('hi!!'*3)"
   ]
  },
  {
   "cell_type": "markdown",
   "metadata": {},
   "source": [
    "## 2.7 Comments"
   ]
  },
  {
   "cell_type": "markdown",
   "metadata": {},
   "source": [
    "You can tell what the line of code specify. Or telling the necessity of the line in the program. "
   ]
  },
  {
   "cell_type": "code",
   "execution_count": 9,
   "metadata": {},
   "outputs": [
    {
     "data": {
      "text/plain": [
       "10.0"
      ]
     },
     "execution_count": 9,
     "metadata": {},
     "output_type": "execute_result"
    }
   ],
   "source": [
    "distance = 10 # assigning value 10 to variable 'distance'\n",
    "\n",
    "time = 1 # assigning value 1 to variable 'time'\n",
    "\n",
    "speed = distance/time # used to calculate speed from given quantities\n",
    "\n",
    "speed\n"
   ]
  },
  {
   "cell_type": "markdown",
   "metadata": {},
   "source": [
    "## 2.8 Debugging"
   ]
  },
  {
   "cell_type": "markdown",
   "metadata": {},
   "source": [
    "Three kinds of errors can occur in a program: syntax errors, runtime errors, and semantic errors. It is useful to distinguish between them in order to track them down more quickly."
   ]
  },
  {
   "cell_type": "markdown",
   "metadata": {},
   "source": [
    "SYNTAX ERROR: “Syntax” refers to the structure of a program and the rules about that structure."
   ]
  },
  {
   "cell_type": "code",
   "execution_count": 2,
   "metadata": {},
   "outputs": [
    {
     "ename": "SyntaxError",
     "evalue": "unexpected EOF while parsing (<ipython-input-2-74c237cc2b39>, line 4)",
     "output_type": "error",
     "traceback": [
      "\u001b[0;36m  File \u001b[0;32m\"<ipython-input-2-74c237cc2b39>\"\u001b[0;36m, line \u001b[0;32m4\u001b[0m\n\u001b[0;31m    print(c\u001b[0m\n\u001b[0m           ^\u001b[0m\n\u001b[0;31mSyntaxError\u001b[0m\u001b[0;31m:\u001b[0m unexpected EOF while parsing\n"
     ]
    }
   ],
   "source": [
    "a = 1\n",
    "b = 2 \n",
    "c = a+b\n",
    "print(c  # while printing the output the missing parantheses causing the error"
   ]
  },
  {
   "cell_type": "markdown",
   "metadata": {},
   "source": [
    "RUNTIME ERROR:\n",
    "    The second type of error is a runtime error, so called because the error does not appear until after the program has started running. These errors are also called\n",
    "exceptions because they usually indicate that something exceptional (and bad) hashappened."
   ]
  },
  {
   "cell_type": "code",
   "execution_count": 3,
   "metadata": {},
   "outputs": [
    {
     "ename": "ZeroDivisionError",
     "evalue": "division by zero",
     "output_type": "error",
     "traceback": [
      "\u001b[0;31m---------------------------------------------------------------------------\u001b[0m",
      "\u001b[0;31mZeroDivisionError\u001b[0m                         Traceback (most recent call last)",
      "\u001b[0;32m<ipython-input-3-2fc232d1511a>\u001b[0m in \u001b[0;36m<module>\u001b[0;34m\u001b[0m\n\u001b[0;32m----> 1\u001b[0;31m \u001b[0mprint\u001b[0m\u001b[0;34m(\u001b[0m\u001b[0;36m1\u001b[0m\u001b[0;34m/\u001b[0m\u001b[0;36m0\u001b[0m\u001b[0;34m)\u001b[0m\u001b[0;34m\u001b[0m\u001b[0m\n\u001b[0m",
      "\u001b[0;31mZeroDivisionError\u001b[0m: division by zero"
     ]
    }
   ],
   "source": [
    "print(1/0)"
   ]
  },
  {
   "cell_type": "markdown",
   "metadata": {},
   "source": [
    "## 2.10 Exercises\n"
   ]
  },
  {
   "cell_type": "markdown",
   "metadata": {},
   "source": [
    "### Exercise 2.1"
   ]
  },
  {
   "cell_type": "markdown",
   "metadata": {},
   "source": [
    "Repeating my advice from the previous chapter, whenever you learn a new feature, you should try it out in interactive mode and make errors on purpose to see what goes wrong."
   ]
  },
  {
   "cell_type": "markdown",
   "metadata": {},
   "source": [
    "• We’ve seen that n = 42 is legal. What about 42 = n ?"
   ]
  },
  {
   "cell_type": "code",
   "execution_count": 4,
   "metadata": {},
   "outputs": [
    {
     "ename": "SyntaxError",
     "evalue": "can't assign to literal (<ipython-input-4-f0c37ed646fc>, line 1)",
     "output_type": "error",
     "traceback": [
      "\u001b[0;36m  File \u001b[0;32m\"<ipython-input-4-f0c37ed646fc>\"\u001b[0;36m, line \u001b[0;32m1\u001b[0m\n\u001b[0;31m    42 = n\u001b[0m\n\u001b[0m          ^\u001b[0m\n\u001b[0;31mSyntaxError\u001b[0m\u001b[0;31m:\u001b[0m can't assign to literal\n"
     ]
    }
   ],
   "source": [
    "42 = n"
   ]
  },
  {
   "cell_type": "markdown",
   "metadata": {},
   "source": [
    "• How about x = y = 1 ?"
   ]
  },
  {
   "cell_type": "code",
   "execution_count": 6,
   "metadata": {},
   "outputs": [
    {
     "name": "stdout",
     "output_type": "stream",
     "text": [
      "1\n",
      "1\n"
     ]
    }
   ],
   "source": [
    "x = y = 1\n",
    "print(x)  # always try to print the variables to chech the changes you made\n",
    "print(y)"
   ]
  },
  {
   "cell_type": "markdown",
   "metadata": {},
   "source": [
    "• In some languages every statement ends with a semi-colon, ; . What happens if you put semi-colon at the end of a Python statement?"
   ]
  },
  {
   "cell_type": "code",
   "execution_count": 8,
   "metadata": {},
   "outputs": [
    {
     "name": "stdout",
     "output_type": "stream",
     "text": [
      "hello\n"
     ]
    }
   ],
   "source": [
    "print('hello'); #still works asusual"
   ]
  },
  {
   "cell_type": "markdown",
   "metadata": {},
   "source": [
    "• What if you put a period at the end of a statement?"
   ]
  },
  {
   "cell_type": "code",
   "execution_count": 9,
   "metadata": {},
   "outputs": [
    {
     "ename": "SyntaxError",
     "evalue": "invalid syntax (<ipython-input-9-8bc0a34c45b8>, line 1)",
     "output_type": "error",
     "traceback": [
      "\u001b[0;36m  File \u001b[0;32m\"<ipython-input-9-8bc0a34c45b8>\"\u001b[0;36m, line \u001b[0;32m1\u001b[0m\n\u001b[0;31m    print('hello').\u001b[0m\n\u001b[0m                   ^\u001b[0m\n\u001b[0;31mSyntaxError\u001b[0m\u001b[0;31m:\u001b[0m invalid syntax\n"
     ]
    }
   ],
   "source": [
    "print('hello')."
   ]
  },
  {
   "cell_type": "markdown",
   "metadata": {},
   "source": [
    "• In math notation you can multiply x and y like this: xy. What happens if you try that in Python?"
   ]
  },
  {
   "cell_type": "markdown",
   "metadata": {},
   "source": []
  },
  {
   "cell_type": "code",
   "execution_count": null,
   "metadata": {},
   "outputs": [],
   "source": []
  },
  {
   "cell_type": "markdown",
   "metadata": {},
   "source": [
    "### Exercise 2.2"
   ]
  },
  {
   "cell_type": "markdown",
   "metadata": {},
   "source": [
    "Practice using the Python interpreter as a calculator:"
   ]
  },
  {
   "cell_type": "markdown",
   "metadata": {},
   "source": [
    "1. The volume of a sphere with radius r is 4/3 πr**3 . What is the volume of a sphere with radius 5?"
   ]
  },
  {
   "cell_type": "code",
   "execution_count": 12,
   "metadata": {},
   "outputs": [
    {
     "name": "stdout",
     "output_type": "stream",
     "text": [
      "523.5987755982989\n"
     ]
    }
   ],
   "source": [
    "import math  # it is used to import the mathmatical values like pi,sin,cos...\n",
    "volume = (4/3)*math.pi*5**3\n",
    "print(volume)"
   ]
  },
  {
   "cell_type": "markdown",
   "metadata": {},
   "source": [
    "2. Suppose the cover price of a book is 24.95 dollor, but bookstores get a 40 % discount. Shipping costs 3 dollor for the first copy and 75 cents for each additional copy. What is the total wholesale cost for\n",
    "60 copies?"
   ]
  },
  {
   "cell_type": "code",
   "execution_count": 13,
   "metadata": {},
   "outputs": [
    {
     "name": "stdout",
     "output_type": "stream",
     "text": [
      "945.4499999999999\n"
     ]
    }
   ],
   "source": [
    "price = 24.95           # single price in usd\n",
    "discount = 40.0       # in percentages (%)\n",
    "copies = 60.0\n",
    "\n",
    "discounted_copies = price - price*(discount/100)\n",
    "total = discounted_copies*60\n",
    "\n",
    "shipping_costs = 3 + 0.75*(copies-1)\n",
    "\n",
    "total_cost = total +shipping_costs\n",
    "print(total_cost)"
   ]
  },
  {
   "cell_type": "code",
   "execution_count": null,
   "metadata": {},
   "outputs": [],
   "source": []
  }
 ],
 "metadata": {
  "kernelspec": {
   "display_name": "Python 3",
   "language": "python",
   "name": "python3"
  },
  "language_info": {
   "codemirror_mode": {
    "name": "ipython",
    "version": 3
   },
   "file_extension": ".py",
   "mimetype": "text/x-python",
   "name": "python",
   "nbconvert_exporter": "python",
   "pygments_lexer": "ipython3",
   "version": "3.5.2"
  }
 },
 "nbformat": 4,
 "nbformat_minor": 2
}

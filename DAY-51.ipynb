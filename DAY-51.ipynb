{
 "cells": [
  {
   "cell_type": "markdown",
   "metadata": {},
   "source": [
    "### Python program to find the size of a singly linked list"
   ]
  },
  {
   "cell_type": "code",
   "execution_count": 2,
   "metadata": {},
   "outputs": [
    {
     "name": "stdout",
     "output_type": "stream",
     "text": [
      "Original list:\n",
      "Motherboard\n",
      "RAM\n",
      "Hard-disk\n",
      "Processor\n",
      "Cabinet\n",
      "\n",
      "Size of the list: 5\n"
     ]
    }
   ],
   "source": [
    "class Node:\n",
    "    # Singly linked node\n",
    "    def __init__(self, data=None):\n",
    "        self.data = data\n",
    "        self.next = None\n",
    "class singly_linked_list:\n",
    "    def __init__(self):\n",
    "        # Createe an empty list\n",
    "        self.tail = None\n",
    "        self.head = None\n",
    "        self.count = 0\n",
    "\t\n",
    "    def append_item(self, data):\n",
    "        #Append items on the list\n",
    "        node = Node(data)\n",
    "        if self.head:\n",
    "            self.head.next = node\n",
    "            self.head = node\n",
    "        else:\n",
    "            self.tail = node\n",
    "            self.head = node\n",
    "        self.count += 1\n",
    "    \n",
    "    def iterate_item(self):\n",
    "        # Iterate the list.\n",
    "        current_item = self.tail\n",
    "        while current_item:\n",
    "            val = current_item.data\n",
    "            current_item = current_item.next\n",
    "            yield val\n",
    "\n",
    "items = singly_linked_list()\n",
    "items.append_item('Motherboard')\n",
    "items.append_item('RAM')\n",
    "items.append_item('Hard-disk')\n",
    "items.append_item('Processor')\n",
    "items.append_item('Cabinet')\n",
    "\n",
    "print(\"Original list:\")\n",
    "for val in items.iterate_item():\n",
    "    print(val)\n",
    "\n",
    "print(\"\\nSize of the list:\",items.count)"
   ]
  },
  {
   "cell_type": "code",
   "execution_count": null,
   "metadata": {},
   "outputs": [],
   "source": []
  }
 ],
 "metadata": {
  "kernelspec": {
   "display_name": "Python 3",
   "language": "python",
   "name": "python3"
  },
  "language_info": {
   "codemirror_mode": {
    "name": "ipython",
    "version": 3
   },
   "file_extension": ".py",
   "mimetype": "text/x-python",
   "name": "python",
   "nbconvert_exporter": "python",
   "pygments_lexer": "ipython3",
   "version": "3.6.8"
  }
 },
 "nbformat": 4,
 "nbformat_minor": 2
}

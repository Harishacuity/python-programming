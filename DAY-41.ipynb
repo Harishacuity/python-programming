{
 "cells": [
  {
   "cell_type": "markdown",
   "metadata": {},
   "source": [
    "#### Gives the resolution of the pictures"
   ]
  },
  {
   "cell_type": "code",
   "execution_count": 7,
   "metadata": {},
   "outputs": [],
   "source": [
    "def jpeg_res(filename):\n",
    "    \"\"\"\"This function prints the resolution of the jpeg image file passed into it\"\"\"\n",
    "    # open image for reading in binary mode\n",
    "    with open(filename,'rb') as img_file:\n",
    "    # height of image (in 2 bytes) is at 164th position\n",
    "        img_file.seek(163)\n",
    "        # read the 2 bytes\n",
    "        a = img_file.read(2)\n",
    "        # calculate height\n",
    "        height = (a[0] << 8) + a[1]\n",
    "        # next 2 bytes is width\n",
    "        a = img_file.read(2)\n",
    "        # calculate width\n",
    "        width = (a[0] << 8) + a[1]\n",
    "    print(\"The resolution of the image is\",width,\"x\",height)\n"
   ]
  },
  {
   "cell_type": "code",
   "execution_count": 8,
   "metadata": {},
   "outputs": [
    {
     "name": "stdout",
     "output_type": "stream",
     "text": [
      "The resolution of the image is 5120 x 512\n"
     ]
    }
   ],
   "source": [
    "jpeg_res(\"charlie-chaplin-28224.jpg\")"
   ]
  },
  {
   "cell_type": "code",
   "execution_count": null,
   "metadata": {},
   "outputs": [],
   "source": []
  }
 ],
 "metadata": {
  "kernelspec": {
   "display_name": "Python 3",
   "language": "python",
   "name": "python3"
  },
  "language_info": {
   "codemirror_mode": {
    "name": "ipython",
    "version": 3
   },
   "file_extension": ".py",
   "mimetype": "text/x-python",
   "name": "python",
   "nbconvert_exporter": "python",
   "pygments_lexer": "ipython3",
   "version": "3.5.2"
  }
 },
 "nbformat": 4,
 "nbformat_minor": 2
}

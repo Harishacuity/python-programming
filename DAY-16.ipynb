{
 "cells": [
  {
   "cell_type": "markdown",
   "metadata": {},
   "source": [
    "Hello guys....\n",
    "\n",
    "Today i wrote a program to add seconds to the time defined by the class."
   ]
  },
  {
   "cell_type": "code",
   "execution_count": 3,
   "metadata": {},
   "outputs": [],
   "source": [
    "class Time: #created a class named \"Time\"\n",
    "    \"\"\"Represents the time of the day.\n",
    "    attributes: hour, minute, seconds\"\"\""
   ]
  },
  {
   "cell_type": "code",
   "execution_count": 4,
   "metadata": {},
   "outputs": [],
   "source": [
    "def print_time(time):# this function is used to print time in proper format\n",
    "    return ('%.2d:%.2d:%.2d')%(time.hour,time.minutes,time.seconds)# \".2d\" is used to print double digit even single digit is given "
   ]
  },
  {
   "cell_type": "code",
   "execution_count": 17,
   "metadata": {},
   "outputs": [
    {
     "data": {
      "text/plain": [
       "'00:00:00'"
      ]
     },
     "execution_count": 17,
     "metadata": {},
     "output_type": "execute_result"
    }
   ],
   "source": [
    "\n",
    "time = Time() #assigning class to object\n",
    "time.hour = 0 # Assigning attributes\n",
    "time.minutes = 0\n",
    "time.seconds = 0\n",
    "print_time(time) \n",
    "\n",
    "# this block entering the clocks to zero"
   ]
  },
  {
   "cell_type": "code",
   "execution_count": 18,
   "metadata": {},
   "outputs": [],
   "source": [
    "def recurse_seconds(time): #making a recursion since it needs to add to minute if 60 seconds exceeds. and repeat it\n",
    "    if time.seconds >=60:\n",
    "        time.seconds -= 60\n",
    "        time.minutes += 1\n",
    "        recurse_seconds(time)\n",
    "def recurse_minutes(time):#making a recursion since it needs to add to hour if 60 minutes exceeds. and repeat it\n",
    "    if time.minutes >=60:\n",
    "        time.minutes -= 60\n",
    "        time.hour += 1\n",
    "        recurse_minutes(time)"
   ]
  },
  {
   "cell_type": "code",
   "execution_count": 19,
   "metadata": {},
   "outputs": [],
   "source": [
    "def increment(time, second): #making a increament function to add seconds to class attributes\n",
    "    time.seconds += second #adding seconds to its attributes\n",
    "    recurse_seconds(time) #using the function\n",
    "    recurse_minutes(time)"
   ]
  },
  {
   "cell_type": "markdown",
   "metadata": {},
   "source": [
    "lets take a sample seconds we want to use here..lets use 7hours 30min "
   ]
  },
  {
   "cell_type": "code",
   "execution_count": 23,
   "metadata": {},
   "outputs": [
    {
     "data": {
      "text/plain": [
       "27000"
      ]
     },
     "execution_count": 23,
     "metadata": {},
     "output_type": "execute_result"
    }
   ],
   "source": [
    "(7*60*60) + (30*60)"
   ]
  },
  {
   "cell_type": "markdown",
   "metadata": {},
   "source": [
    "So let us check our program is working or not..."
   ]
  },
  {
   "cell_type": "code",
   "execution_count": 20,
   "metadata": {},
   "outputs": [
    {
     "data": {
      "text/plain": [
       "'07:30:00'"
      ]
     },
     "execution_count": 20,
     "metadata": {},
     "output_type": "execute_result"
    }
   ],
   "source": [
    "increment(time,27000)\n",
    "print_time(time)"
   ]
  },
  {
   "cell_type": "markdown",
   "metadata": {},
   "source": [
    "It works...."
   ]
  },
  {
   "cell_type": "code",
   "execution_count": null,
   "metadata": {},
   "outputs": [],
   "source": []
  }
 ],
 "metadata": {
  "kernelspec": {
   "display_name": "Python 3",
   "language": "python",
   "name": "python3"
  },
  "language_info": {
   "codemirror_mode": {
    "name": "ipython",
    "version": 3
   },
   "file_extension": ".py",
   "mimetype": "text/x-python",
   "name": "python",
   "nbconvert_exporter": "python",
   "pygments_lexer": "ipython3",
   "version": "3.6.8"
  }
 },
 "nbformat": 4,
 "nbformat_minor": 2
}

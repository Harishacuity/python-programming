{
 "cells": [
  {
   "cell_type": "markdown",
   "metadata": {},
   "source": [
    "## snake game ==> need to continue"
   ]
  },
  {
   "cell_type": "code",
   "execution_count": 1,
   "metadata": {},
   "outputs": [
    {
     "name": "stdout",
     "output_type": "stream",
     "text": [
      "pygame 1.9.6\n",
      "Hello from the pygame community. https://www.pygame.org/contribute.html\n"
     ]
    }
   ],
   "source": [
    "import math\n",
    "import random\n",
    "import pygame\n",
    "import tkinter as tk\n",
    "from tkinter import messagebox\n",
    "\n",
    "class cube(object):\n",
    "    rows = 0\n",
    "    w = 0\n",
    "    def __init__(self,start,dirnx=1,dirny=0,color=(255,0,0)):\n",
    "        pass\n",
    "\n",
    "    def move(self, dirnx, dirny):\n",
    "        pass\n",
    "\n",
    "    def draw(self, surface, eyes=False):\n",
    "        pass\n",
    "\n",
    "class snake(object):\n",
    "    def __init__(self, color, pos):\n",
    "        pass\n",
    "\n",
    "    def move(self):\n",
    "        pass\n",
    "\n",
    "    def reset(self, pos):\n",
    "        pass\n",
    "\n",
    "    def addCube(self):\n",
    "        pass\n",
    "\n",
    "    def draw(self, surface):\n",
    "        pass\n",
    "\n",
    "def drawGrid(w, rows, surface):\n",
    "    sizeBtwn = w // rows\n",
    "    c = 0\n",
    "    y = 0\n",
    "    for l in range(rows):\n",
    "        x = x + sizeBtwn\n",
    "        y = y + sizeBtwn\n",
    "\n",
    "        pygame.draw.line(surface, (255,255,255), (x,0), (x,w))\n",
    "        pygame.draw.line(surface, (255,255,255), (0,y), (w,y))\n",
    " \n",
    "\n",
    "def redrawWindow(surface):\n",
    "    global rows, width\n",
    "    surface.fill((0,0,0))\n",
    "    drawGrid(width,rows,surface)\n",
    "    pygame.display.update()\n",
    "\n",
    "\n",
    "def randomSnack(rows, items):\n",
    "    pass\n",
    "\n",
    "def message_box(subject, content):\n",
    "    pass\n",
    "\n",
    "def main():\n",
    "    global rows, width\n",
    "    width= 500\n",
    "    rows = 20\n",
    "    win = pygame.display.set_mode((width, width))\n",
    "    s = snake((255,0,0), (10,10))\n",
    "    flag = True\n",
    "    \n",
    "    clock = pygame.time.Clock()\n",
    "    \n",
    "    while flag:\n",
    "        pygame.time.delay(50)\n",
    "        clock.tick(10)\n",
    "        redrawWindow(win)\n",
    "\n",
    "    \n",
    "\n",
    "# rows = \n",
    "# w = \n",
    "# h = \n",
    "\n",
    "# cube.rows = rows\n",
    "# cube.w = w\n",
    "\n",
    "# main()"
   ]
  },
  {
   "cell_type": "code",
   "execution_count": null,
   "metadata": {},
   "outputs": [],
   "source": []
  }
 ],
 "metadata": {
  "kernelspec": {
   "display_name": "Python 3",
   "language": "python",
   "name": "python3"
  },
  "language_info": {
   "codemirror_mode": {
    "name": "ipython",
    "version": 3
   },
   "file_extension": ".py",
   "mimetype": "text/x-python",
   "name": "python",
   "nbconvert_exporter": "python",
   "pygments_lexer": "ipython3",
   "version": "3.6.9"
  }
 },
 "nbformat": 4,
 "nbformat_minor": 2
}

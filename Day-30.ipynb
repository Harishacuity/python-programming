{
 "cells": [
  {
   "cell_type": "markdown",
   "metadata": {},
   "source": [
    "### In this program i used the secrets module and map function."
   ]
  },
  {
   "cell_type": "code",
   "execution_count": 1,
   "metadata": {},
   "outputs": [
    {
     "name": "stdout",
     "output_type": "stream",
     "text": [
      "[1, 2, 3, 4, 5, 6]\n",
      "[1, 2, 3, 4, 5, 6]\n"
     ]
    }
   ],
   "source": [
    "num = 123456\n",
    "\n",
    "# using map\n",
    "list_of_digits = list(map(int, str(num)))\n",
    "\n",
    "print(list_of_digits)\n",
    "# [1, 2, 3, 4, 5, 6]\n",
    "\n",
    "# using list comprehension\n",
    "list_of_digits = [int(x) for x in str(num)]\n",
    "\n",
    "print(list_of_digits)"
   ]
  },
  {
   "cell_type": "code",
   "execution_count": 6,
   "metadata": {},
   "outputs": [
    {
     "name": "stdout",
     "output_type": "stream",
     "text": [
      "['b', 'a']\n"
     ]
    }
   ],
   "source": [
    "import secrets                              # imports secure module.\n",
    "secure_random = secrets.SystemRandom()      # creates a secure random object.\n",
    "\n",
    "my_list = ['a','b','c','d','e']\n",
    "num_samples = 2\n",
    "\n",
    "samples = secure_random.sample(my_list, num_samples)\n",
    "\n",
    "print(samples)"
   ]
  },
  {
   "cell_type": "code",
   "execution_count": null,
   "metadata": {},
   "outputs": [],
   "source": []
  }
 ],
 "metadata": {
  "kernelspec": {
   "display_name": "Python 3",
   "language": "python",
   "name": "python3"
  },
  "language_info": {
   "codemirror_mode": {
    "name": "ipython",
    "version": 3
   },
   "file_extension": ".py",
   "mimetype": "text/x-python",
   "name": "python",
   "nbconvert_exporter": "python",
   "pygments_lexer": "ipython3",
   "version": "3.7.4"
  }
 },
 "nbformat": 4,
 "nbformat_minor": 2
}

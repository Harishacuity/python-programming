{
 "cells": [
  {
   "cell_type": "markdown",
   "metadata": {},
   "source": [
    "### This program is used to give the time schedule based on the local time."
   ]
  },
  {
   "cell_type": "code",
   "execution_count": 10,
   "metadata": {},
   "outputs": [
    {
     "name": "stdout",
     "output_type": "stream",
     "text": [
      "Time now is:  21\n",
      "Its time for :  Resting\n"
     ]
    }
   ],
   "source": [
    "from time import localtime\n",
    "\n",
    "activities = {8: 'Sleeping',\n",
    "              9: 'Commuting',\n",
    "              17: 'Working',\n",
    "              18: 'Commuting',\n",
    "              20: 'Eating',\n",
    "              22: 'Resting' }\n",
    "\n",
    "time_now = localtime()\n",
    "hour = time_now.tm_hour\n",
    "print('Time now is: ',hour)\n",
    "\n",
    "for activity_time in sorted(activities.keys()):\n",
    "    if hour < activity_time:\n",
    "        print ('Its time for : ', activities[activity_time])\n",
    "        break\n",
    "else:\n",
    "    print ('Unknown, AFK or sleeping!')\n"
   ]
  },
  {
   "cell_type": "code",
   "execution_count": null,
   "metadata": {},
   "outputs": [],
   "source": []
  }
 ],
 "metadata": {
  "kernelspec": {
   "display_name": "Python 3",
   "language": "python",
   "name": "python3"
  },
  "language_info": {
   "codemirror_mode": {
    "name": "ipython",
    "version": 3
   },
   "file_extension": ".py",
   "mimetype": "text/x-python",
   "name": "python",
   "nbconvert_exporter": "python",
   "pygments_lexer": "ipython3",
   "version": "3.6.8"
  }
 },
 "nbformat": 4,
 "nbformat_minor": 2
}

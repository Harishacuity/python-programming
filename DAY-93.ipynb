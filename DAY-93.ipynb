{
 "cells": [
  {
   "cell_type": "markdown",
   "metadata": {},
   "source": [
    "### I've made a pixelart of the image using the below code "
   ]
  },
  {
   "cell_type": "code",
   "execution_count": 6,
   "metadata": {},
   "outputs": [],
   "source": [
    "\n",
    "from PIL import Image\n",
    "import numpy as np\n",
    "# Open Paddington\n",
    "img = Image.open('pika.jpg')\n",
    "\n",
    "\n",
    "#     resize the image\n",
    "imresize = img.resize((563,637), Image.NEAREST)\n",
    "imresize.save('test1.png')\n",
    "\n",
    "# Resize smoothly down to 16x16 pixels\n",
    "imgSmall = imresize.resize((50,50),resample=Image.BILINEAR)\n",
    "imgSmall.save('try3pixel.png')\n",
    "\n",
    "# Scale back up using NEAREST to original size\n",
    "result = imgSmall.resize((563,637), Image.NEAREST)\n",
    "\n",
    "#again rescale\n",
    "imgSmall2 = result.resize((25,25),resample=Image.BILINEAR)\n",
    "\n",
    "#again to normal size\n",
    "result2 = imgSmall2.resize((563,637), Image.NEAREST)\n",
    "\n",
    "# Save\n",
    "result2.save('try3pixel_enlarge.png')"
   ]
  },
  {
   "cell_type": "code",
   "execution_count": 3,
   "metadata": {},
   "outputs": [
    {
     "data": {
      "image/png": "[encoded data removed]",
      "text/plain": [
       "<matplotlib.figure.Figure at 0x7fd3f5c79160>"
      ]
     },
     "metadata": {
      "needs_background": "light"
     },
     "output_type": "display_data"
    }
   ],
   "source": [
    "import matplotlib.pyplot as plt\n",
    "import matplotlib.image as mpimg\n",
    "img=mpimg.imread('try3pixel_enlarge.png')\n",
    "imgplot = plt.imshow(img)\n",
    "plt.show()"
   ]
  },
  {
   "cell_type": "markdown",
   "metadata": {},
   "source": [
    "### pixel value"
   ]
  },
  {
   "cell_type": "code",
   "execution_count": 9,
   "metadata": {},
   "outputs": [
    {
     "name": "stdout",
     "output_type": "stream",
     "text": [
      "358631\n"
     ]
    }
   ],
   "source": [
    "pix_val = list(result2.getdata())\n",
    "print(len(pix_val))\n"
   ]
  },
  {
   "cell_type": "markdown",
   "metadata": {},
   "source": [
    "### remove duplicate pixels"
   ]
  },
  {
   "cell_type": "code",
   "execution_count": 10,
   "metadata": {},
   "outputs": [],
   "source": [
    "def Remove(duplicate): \n",
    "    final_list = [] \n",
    "    for num in duplicate: \n",
    "        if num not in final_list: \n",
    "            final_list.append(num) \n",
    "    return final_list"
   ]
  },
  {
   "cell_type": "code",
   "execution_count": 12,
   "metadata": {},
   "outputs": [
    {
     "name": "stdout",
     "output_type": "stream",
     "text": [
      "[(254, 254, 254, 255), (255, 255, 255, 255), (209, 209, 209, 255), (134, 134, 134, 255), (241, 241, 241, 255), (255, 255, 255, 254), (178, 178, 178, 255), (214, 214, 214, 255), (245, 245, 243, 255), (249, 249, 248, 255), (139, 138, 134, 255), (75, 75, 74, 255), (234, 234, 234, 255), (212, 212, 212, 255), (84, 84, 84, 255), (59, 58, 49, 255), (186, 174, 116, 255), (236, 229, 193, 255), (249, 248, 242, 255), (242, 239, 224, 255), (161, 147, 72, 255), (99, 94, 68, 255), (233, 233, 232, 255), (253, 253, 253, 255), (195, 195, 195, 255), (75, 72, 60, 255), (175, 148, 28, 255), (237, 206, 55, 255), (230, 213, 126, 255), (240, 236, 215, 255), (253, 253, 252, 255), (235, 227, 186, 255), (232, 202, 46, 255), (191, 174, 88, 255), (241, 240, 237, 255), (252, 252, 252, 255), (206, 204, 201, 255), (191, 165, 99, 255), (234, 190, 41, 255), (242, 204, 37, 255), (230, 206, 82, 255), (233, 226, 187, 255), (247, 246, 242, 255), (248, 247, 243, 255), (251, 250, 248, 255), (233, 219, 147, 255), (243, 209, 36, 255), (227, 207, 114, 255), (249, 248, 245, 255), (242, 237, 229, 255), (223, 197, 148, 255), (224, 182, 72, 255), (237, 197, 40, 255), (228, 201, 63, 255), (223, 204, 107, 255), (226, 207, 109, 255), (229, 212, 130, 255), (234, 225, 179, 255), (241, 239, 225, 255), (232, 213, 118, 255), (242, 206, 35, 255), (227, 208, 142, 255), (253, 252, 251, 255), (236, 227, 209, 255), (219, 192, 94, 255), (243, 208, 32, 255), (247, 212, 31, 255), (246, 211, 33, 255), (241, 209, 47, 255), (226, 204, 95, 255), (219, 195, 70, 255), (234, 195, 45, 255), (230, 215, 181, 255), (243, 238, 218, 255), (218, 194, 72, 255), (213, 184, 38, 255), (244, 209, 33, 255), (250, 214, 31, 255), (246, 211, 32, 255), (233, 198, 32, 255), (221, 185, 76, 255), (240, 234, 223, 255), (252, 251, 251, 255), (226, 208, 155, 255), (172, 149, 34, 255), (122, 109, 44, 255), (225, 194, 35, 255), (249, 213, 31, 255), (248, 212, 31, 255), (243, 208, 33, 255), (243, 208, 35, 255), (226, 207, 136, 255), (251, 250, 249, 255), (239, 219, 216, 255), (213, 122, 71, 255), (218, 174, 27, 255), (200, 172, 26, 255), (228, 191, 28, 255), (225, 189, 28, 255), (245, 209, 30, 255), (213, 184, 35, 255), (155, 139, 50, 255), (218, 189, 41, 255), (235, 224, 168, 255), (229, 186, 180, 255), (219, 85, 36, 255), (237, 187, 28, 255), (228, 189, 29, 255), (161, 91, 28, 255), (155, 79, 27, 255), (197, 151, 25, 255), (199, 170, 27, 255), (131, 114, 26, 255), (209, 182, 51, 255), (236, 230, 198, 255), (234, 214, 204, 255), (217, 152, 55, 255), (245, 206, 30, 255), (232, 187, 35, 255), (206, 86, 69, 255), (199, 63, 71, 255), (175, 105, 32, 255), (236, 200, 29, 255), (233, 191, 28, 255), (219, 171, 61, 255), (227, 216, 178, 255), (231, 221, 169, 255), (227, 219, 178, 255), (248, 247, 244, 255), (246, 244, 235, 255), (231, 224, 190, 255), (218, 194, 77, 255), (238, 204, 30, 255), (235, 193, 34, 255), (219, 107, 73, 255), (221, 104, 75, 255), (229, 178, 38, 255), (245, 207, 30, 255), (225, 125, 23, 255), (214, 98, 30, 255), (230, 194, 53, 255), (242, 208, 41, 255), (218, 194, 71, 255), (235, 232, 216, 255), (245, 242, 230, 255), (228, 209, 114, 255), (236, 206, 55, 255), (236, 203, 38, 255), (231, 197, 29, 255), (223, 189, 29, 255), (217, 159, 42, 255), (230, 177, 40, 255), (248, 211, 31, 255), (241, 201, 30, 255), (214, 111, 22, 255), (225, 147, 25, 255), (248, 210, 31, 255), (237, 203, 31, 255), (206, 183, 69, 255), (226, 216, 165, 255), (237, 230, 194, 255), (241, 237, 214, 255), (247, 245, 234, 255), (251, 251, 248, 255), (233, 226, 192, 255), (237, 205, 50, 255), (250, 213, 31, 255), (234, 199, 29, 255), (215, 175, 28, 255), (243, 199, 31, 255), (233, 199, 29, 255), (227, 186, 28, 255), (244, 204, 30, 255), (236, 195, 34, 255), (213, 178, 33, 255), (236, 202, 35, 255), (242, 210, 43, 255), (241, 209, 49, 255), (237, 208, 62, 255), (233, 209, 86, 255), (232, 214, 126, 255), (234, 224, 176, 255), (243, 241, 226, 255), (251, 251, 249, 254), (241, 237, 220, 255), (224, 189, 87, 255), (233, 181, 35, 255), (236, 187, 31, 255), (233, 190, 30, 255), (221, 185, 28, 255), (226, 189, 29, 255), (247, 207, 31, 255), (233, 185, 41, 255), (211, 176, 95, 255), (214, 182, 63, 255), (240, 190, 32, 255), (247, 206, 32, 255), (247, 212, 33, 255), (241, 209, 45, 255), (223, 205, 112, 255), (239, 237, 226, 254), (231, 220, 199, 255), (210, 172, 66, 255), (220, 175, 29, 255), (227, 187, 29, 255), (238, 202, 30, 255), (227, 182, 50, 255), (220, 191, 137, 255), (228, 218, 190, 255), (226, 186, 64, 255), (226, 157, 35, 255), (229, 166, 35, 255), (240, 189, 32, 255), (248, 208, 31, 255), (249, 213, 32, 255), (239, 210, 65, 255), (236, 227, 178, 255), (249, 249, 246, 254), (237, 232, 208, 255), (232, 203, 59, 255), (245, 208, 31, 255), (213, 190, 105, 255), (229, 222, 206, 255), (226, 216, 168, 255), (225, 177, 47, 255), (214, 163, 79, 255), (214, 176, 115, 255), (215, 164, 76, 255), (227, 177, 48, 255), (242, 202, 36, 255), (238, 209, 63, 255), (238, 228, 178, 255), (252, 252, 249, 255), (229, 218, 157, 255), (243, 209, 38, 255), (218, 200, 115, 255), (206, 176, 113, 255), (223, 183, 58, 255), (222, 175, 57, 255), (227, 210, 182, 255), (248, 246, 243, 255), (241, 234, 223, 255), (230, 215, 187, 255), (226, 206, 147, 255), (235, 225, 183, 255), (252, 251, 248, 255), (247, 246, 239, 255), (229, 209, 102, 255), (248, 213, 31, 255), (248, 212, 32, 255), (216, 194, 100, 255), (185, 141, 95, 255), (197, 150, 78, 255), (220, 198, 153, 255), (248, 245, 242, 255), (252, 252, 251, 255), (238, 232, 205, 255), (236, 207, 59, 255), (205, 170, 42, 255), (142, 84, 55, 255), (189, 158, 148, 255), (249, 248, 247, 255), (230, 220, 176, 255), (238, 202, 44, 255), (248, 209, 31, 255), (249, 212, 31, 255), (233, 200, 42, 255), (204, 185, 147, 255), (232, 225, 223, 255), (231, 224, 198, 255), (214, 169, 61, 255), (228, 167, 33, 255), (231, 177, 37, 255), (232, 182, 44, 255), (225, 174, 43, 255), (220, 163, 37, 255), (227, 165, 34, 255), (232, 170, 33, 255), (237, 182, 33, 255), (234, 197, 47, 255), (234, 226, 188, 255), (237, 236, 229, 255), (190, 179, 126, 255), (200, 163, 66, 255), (205, 156, 75, 255), (212, 181, 130, 255), (226, 206, 173, 255), (217, 200, 173, 255), (204, 181, 145, 255), (209, 174, 116, 255), (206, 158, 83, 255), (204, 145, 44, 255), (209, 162, 52, 255), (214, 203, 160, 255), (244, 243, 240, 255), (241, 241, 236, 255), (218, 212, 189, 255), (229, 220, 197, 255), (238, 231, 220, 255), (251, 251, 251, 255), (247, 245, 243, 255), (236, 230, 221, 255), (217, 198, 160, 255), (219, 194, 114, 255), (179, 162, 79, 255), (187, 182, 154, 255), (250, 250, 249, 255)]\n",
      "307\n"
     ]
    }
   ],
   "source": [
    "a = Remove(pix_val)\n",
    "print(a)\n",
    "print(len(a))"
   ]
  },
  {
   "cell_type": "code",
   "execution_count": 19,
   "metadata": {},
   "outputs": [
    {
     "name": "stdout",
     "output_type": "stream",
     "text": [
      "16\n",
      "16\n",
      "[[(254, 254, 254, 255), (255, 255, 255, 255), (209, 209, 209, 255), (134, 134, 134, 255), (241, 241, 241, 255), (255, 255, 255, 254), (178, 178, 178, 255), (214, 214, 214, 255), (245, 245, 243, 255), (249, 249, 248, 255), (139, 138, 134, 255), (75, 75, 74, 255), (234, 234, 234, 255), (212, 212, 212, 255), (84, 84, 84, 255), (59, 58, 49, 255)], [(186, 174, 116, 255), (236, 229, 193, 255), (249, 248, 242, 255), (242, 239, 224, 255), (161, 147, 72, 255), (99, 94, 68, 255), (233, 233, 232, 255), (253, 253, 253, 255), (195, 195, 195, 255), (75, 72, 60, 255), (175, 148, 28, 255), (237, 206, 55, 255), (230, 213, 126, 255), (240, 236, 215, 255), (253, 253, 252, 255), (235, 227, 186, 255)], [(232, 202, 46, 255), (191, 174, 88, 255), (241, 240, 237, 255), (252, 252, 252, 255), (206, 204, 201, 255), (191, 165, 99, 255), (234, 190, 41, 255), (242, 204, 37, 255), (230, 206, 82, 255), (233, 226, 187, 255), (247, 246, 242, 255), (248, 247, 243, 255), (251, 250, 248, 255), (233, 219, 147, 255), (243, 209, 36, 255), (227, 207, 114, 255)], [(249, 248, 245, 255), (242, 237, 229, 255), (223, 197, 148, 255), (224, 182, 72, 255), (237, 197, 40, 255), (228, 201, 63, 255), (223, 204, 107, 255), (226, 207, 109, 255), (229, 212, 130, 255), (234, 225, 179, 255), (241, 239, 225, 255), (232, 213, 118, 255), (242, 206, 35, 255), (227, 208, 142, 255), (253, 252, 251, 255), (236, 227, 209, 255)], [(219, 192, 94, 255), (243, 208, 32, 255), (247, 212, 31, 255), (246, 211, 33, 255), (241, 209, 47, 255), (226, 204, 95, 255), (219, 195, 70, 255), (234, 195, 45, 255), (230, 215, 181, 255), (243, 238, 218, 255), (218, 194, 72, 255), (213, 184, 38, 255), (244, 209, 33, 255), (250, 214, 31, 255), (246, 211, 32, 255), (233, 198, 32, 255)], [(221, 185, 76, 255), (240, 234, 223, 255), (252, 251, 251, 255), (226, 208, 155, 255), (172, 149, 34, 255), (122, 109, 44, 255), (225, 194, 35, 255), (249, 213, 31, 255), (248, 212, 31, 255), (243, 208, 33, 255), (243, 208, 35, 255), (226, 207, 136, 255), (251, 250, 249, 255), (239, 219, 216, 255), (213, 122, 71, 255), (218, 174, 27, 255)], [(200, 172, 26, 255), (228, 191, 28, 255), (225, 189, 28, 255), (245, 209, 30, 255), (213, 184, 35, 255), (155, 139, 50, 255), (218, 189, 41, 255), (235, 224, 168, 255), (229, 186, 180, 255), (219, 85, 36, 255), (237, 187, 28, 255), (228, 189, 29, 255), (161, 91, 28, 255), (155, 79, 27, 255), (197, 151, 25, 255), (199, 170, 27, 255)], [(131, 114, 26, 255), (209, 182, 51, 255), (236, 230, 198, 255), (234, 214, 204, 255), (217, 152, 55, 255), (245, 206, 30, 255), (232, 187, 35, 255), (206, 86, 69, 255), (199, 63, 71, 255), (175, 105, 32, 255), (236, 200, 29, 255), (233, 191, 28, 255), (219, 171, 61, 255), (227, 216, 178, 255), (231, 221, 169, 255), (227, 219, 178, 255)], [(248, 247, 244, 255), (246, 244, 235, 255), (231, 224, 190, 255), (218, 194, 77, 255), (238, 204, 30, 255), (235, 193, 34, 255), (219, 107, 73, 255), (221, 104, 75, 255), (229, 178, 38, 255), (245, 207, 30, 255), (225, 125, 23, 255), (214, 98, 30, 255), (230, 194, 53, 255), (242, 208, 41, 255), (218, 194, 71, 255), (235, 232, 216, 255)], [(245, 242, 230, 255), (228, 209, 114, 255), (236, 206, 55, 255), (236, 203, 38, 255), (231, 197, 29, 255), (223, 189, 29, 255), (217, 159, 42, 255), (230, 177, 40, 255), (248, 211, 31, 255), (241, 201, 30, 255), (214, 111, 22, 255), (225, 147, 25, 255), (248, 210, 31, 255), (237, 203, 31, 255), (206, 183, 69, 255), (226, 216, 165, 255)], [(237, 230, 194, 255), (241, 237, 214, 255), (247, 245, 234, 255), (251, 251, 248, 255), (233, 226, 192, 255), (237, 205, 50, 255), (250, 213, 31, 255), (234, 199, 29, 255), (215, 175, 28, 255), (243, 199, 31, 255), (233, 199, 29, 255), (227, 186, 28, 255), (244, 204, 30, 255), (236, 195, 34, 255), (213, 178, 33, 255), (236, 202, 35, 255)], [(242, 210, 43, 255), (241, 209, 49, 255), (237, 208, 62, 255), (233, 209, 86, 255), (232, 214, 126, 255), (234, 224, 176, 255), (243, 241, 226, 255), (251, 251, 249, 254), (241, 237, 220, 255), (224, 189, 87, 255), (233, 181, 35, 255), (236, 187, 31, 255), (233, 190, 30, 255), (221, 185, 28, 255), (226, 189, 29, 255), (247, 207, 31, 255)], [(233, 185, 41, 255), (211, 176, 95, 255), (214, 182, 63, 255), (240, 190, 32, 255), (247, 206, 32, 255), (247, 212, 33, 255), (241, 209, 45, 255), (223, 205, 112, 255), (239, 237, 226, 254), (231, 220, 199, 255), (210, 172, 66, 255), (220, 175, 29, 255), (227, 187, 29, 255), (238, 202, 30, 255), (227, 182, 50, 255), (220, 191, 137, 255)], [(228, 218, 190, 255), (226, 186, 64, 255), (226, 157, 35, 255), (229, 166, 35, 255), (240, 189, 32, 255), (248, 208, 31, 255), (249, 213, 32, 255), (239, 210, 65, 255), (236, 227, 178, 255), (249, 249, 246, 254), (237, 232, 208, 255), (232, 203, 59, 255), (245, 208, 31, 255), (213, 190, 105, 255), (229, 222, 206, 255), (226, 216, 168, 255)], [(225, 177, 47, 255), (214, 163, 79, 255), (214, 176, 115, 255), (215, 164, 76, 255), (227, 177, 48, 255), (242, 202, 36, 255), (238, 209, 63, 255), (238, 228, 178, 255), (252, 252, 249, 255), (229, 218, 157, 255), (243, 209, 38, 255), (218, 200, 115, 255), (206, 176, 113, 255), (223, 183, 58, 255), (222, 175, 57, 255), (227, 210, 182, 255)], [(248, 246, 243, 255), (241, 234, 223, 255), (230, 215, 187, 255), (226, 206, 147, 255), (235, 225, 183, 255), (252, 251, 248, 255), (247, 246, 239, 255), (229, 209, 102, 255), (248, 213, 31, 255), (248, 212, 32, 255), (216, 194, 100, 255), (185, 141, 95, 255), (197, 150, 78, 255), (220, 198, 153, 255), (248, 245, 242, 255), (252, 252, 251, 255)]]\n"
     ]
    }
   ],
   "source": [
    "from itertools import islice \n",
    "Input = a\n",
    "\n",
    "x = 16\n",
    "b = []\n",
    "for i in range(16):\n",
    "    n = x*1\n",
    "    b.append(n)\n",
    "    \n",
    "print(len(b))\n",
    "\n",
    "# list of length in which we have to split \n",
    "length_to_split = b\n",
    "  \n",
    "# Using islice \n",
    "Inputt = iter(Input) \n",
    "Output = [list(islice(Inputt, elem)) \n",
    "          for elem in length_to_split]\n",
    "print(len(Output))\n",
    "print(Output)"
   ]
  },
  {
   "cell_type": "code",
   "execution_count": 20,
   "metadata": {},
   "outputs": [],
   "source": [
    "array = np.array(Output, dtype=np.uint8)\n",
    "\n",
    "# Use PIL to create an image from the new array of pixels\n",
    "new_image = Image.fromarray(array)\n",
    "\n",
    "new_image.save('trylast.png')"
   ]
  },
  {
   "cell_type": "code",
   "execution_count": 2,
   "metadata": {},
   "outputs": [
    {
     "data": {
      "image/png": "[encoded data removed]",
      "text/plain": [
       "<matplotlib.figure.Figure at 0x7fd3f5d0a208>"
      ]
     },
     "metadata": {
      "needs_background": "light"
     },
     "output_type": "display_data"
    }
   ],
   "source": [
    "import matplotlib.pyplot as plt\n",
    "import matplotlib.image as mpimg\n",
    "img=mpimg.imread('trylast.png')\n",
    "imgplot = plt.imshow(img)\n",
    "plt.show()"
   ]
  },
  {
   "cell_type": "code",
   "execution_count": null,
   "metadata": {},
   "outputs": [],
   "source": []
  }
 ],
 "metadata": {
  "kernelspec": {
   "display_name": "Python 3",
   "language": "python",
   "name": "python3"
  },
  "language_info": {
   "codemirror_mode": {
    "name": "ipython",
    "version": 3
   },
   "file_extension": ".py",
   "mimetype": "text/x-python",
   "name": "python",
   "nbconvert_exporter": "python",
   "pygments_lexer": "ipython3",
   "version": "3.6.9"
  }
 },
 "nbformat": 4,
 "nbformat_minor": 2
}

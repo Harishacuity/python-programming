{
 "cells": [
  {
   "cell_type": "code",
   "execution_count": 2,
   "metadata": {},
   "outputs": [
    {
     "name": "stdout",
     "output_type": "stream",
     "text": [
      "[2.0, 3.0]\n"
     ]
    }
   ],
   "source": [
    "import json\n",
    "\n",
    "def encode_complex(object):\n",
    "    # check using isinstance method\n",
    "    if isinstance(object, complex):\n",
    "        return [object.real, object.imag]\n",
    "    # raised error if object is not complex\n",
    "    raise TypeError(repr(object) + \" is not JSON serialized\")\n",
    "\n",
    "complex_obj = json.dumps(2 + 3j, default=encode_complex)\n",
    "print(complex_obj) "
   ]
  },
  {
   "cell_type": "code",
   "execution_count": null,
   "metadata": {},
   "outputs": [],
   "source": []
  }
 ],
 "metadata": {
  "kernelspec": {
   "display_name": "Python 3",
   "language": "python",
   "name": "python3"
  },
  "language_info": {
   "codemirror_mode": {
    "name": "ipython",
    "version": 3
   },
   "file_extension": ".py",
   "mimetype": "text/x-python",
   "name": "python",
   "nbconvert_exporter": "python",
   "pygments_lexer": "ipython3",
   "version": "3.6.9"
  }
 },
 "nbformat": 4,
 "nbformat_minor": 2
}

{
 "cells": [
  {
   "cell_type": "code",
   "execution_count": null,
   "metadata": {},
   "outputs": [],
   "source": [
    "Palindrome is a word, number, phrase, or other sequence of characters which reads the same backward as forward.\n",
    "    \n",
    "Eg. madam,civic,radar"
   ]
  },
  {
   "cell_type": "code",
   "execution_count": 1,
   "metadata": {},
   "outputs": [],
   "source": [
    "def first(word): #function definition to slice the first word\n",
    "    return word[0]\n",
    "def last(word): #function definition to slice the last word\n",
    "    return word[-1]\n",
    "def middle(word):#function definition to slice the middle word\n",
    "    return word[1:-1]"
   ]
  },
  {
   "cell_type": "code",
   "execution_count": 2,
   "metadata": {},
   "outputs": [
    {
     "name": "stdout",
     "output_type": "stream",
     "text": [
      "r\n",
      "r\n",
      "ada\n"
     ]
    }
   ],
   "source": [
    "print(first('radar'))\n",
    "print(last('radar'))\n",
    "print(middle('radar'))"
   ]
  },
  {
   "cell_type": "code",
   "execution_count": null,
   "metadata": {},
   "outputs": [],
   "source": []
  },
  {
   "cell_type": "code",
   "execution_count": null,
   "metadata": {},
   "outputs": [],
   "source": []
  },
  {
   "cell_type": "code",
   "execution_count": 4,
   "metadata": {},
   "outputs": [],
   "source": [
    "def is_palindrome(word): # creating a function named is_palindrome tht takes 'word' as arguement\n",
    "    if len(word) <= 1:  # since we uses recursive function here need to give proper condition to exit\n",
    "        return True\n",
    "    if first(word) != last(word): #Checks first word not equals to last word\n",
    "        return False\n",
    "    return is_palindrome(middle(word)) #function is called within itself with the middle function as arguement\n"
   ]
  },
  {
   "cell_type": "raw",
   "metadata": {},
   "source": [
    "Explanation:\n",
    "\n",
    "    step1 : creating a function named is_palindrome and making one arguement for that function.\n",
    "    \n",
    "    step2 : checking the length of the word, if it is less than or equal to 1 then it returns True since it has only one letter, so obviously it is palindrome.\n",
    "   \n",
    "    step3 : checking first letter not equal to last letter. If it is not equal means then it is not a palindrome. goes to next line\n",
    "        \n",
    "    step4 : If the above conditions not satisfied means there is a chance of palindrome. so we need to check all the         letter inside.by recursing the same function with the middle letters which agaain repeats until step 1 satisfies.  \n",
    "        "
   ]
  },
  {
   "cell_type": "code",
   "execution_count": 6,
   "metadata": {},
   "outputs": [
    {
     "name": "stdout",
     "output_type": "stream",
     "text": [
      "True\n",
      "False\n"
     ]
    }
   ],
   "source": [
    "print(is_palindrome(\"civic\"))\n",
    "print(is_palindrome(\"civil\"))\n"
   ]
  },
  {
   "cell_type": "code",
   "execution_count": null,
   "metadata": {},
   "outputs": [],
   "source": []
  }
 ],
 "metadata": {
  "kernelspec": {
   "display_name": "Python 3",
   "language": "python",
   "name": "python3"
  },
  "language_info": {
   "codemirror_mode": {
    "name": "ipython",
    "version": 3
   },
   "file_extension": ".py",
   "mimetype": "text/x-python",
   "name": "python",
   "nbconvert_exporter": "python",
   "pygments_lexer": "ipython3",
   "version": "3.5.2"
  }
 },
 "nbformat": 4,
 "nbformat_minor": 2
}

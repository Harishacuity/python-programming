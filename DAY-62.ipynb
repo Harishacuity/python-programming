{
 "cells": [
  {
   "cell_type": "markdown",
   "metadata": {},
   "source": [
    "### Python program to convert JSON data to Python object."
   ]
  },
  {
   "cell_type": "code",
   "execution_count": 1,
   "metadata": {},
   "outputs": [
    {
     "name": "stdout",
     "output_type": "stream",
     "text": [
      "\n",
      "JSON data:\n",
      "{'Name': 'David', 'Age': 6, 'Class': 'I'}\n",
      "\n",
      "Name:  David\n",
      "Class:  I\n",
      "Age:  6\n"
     ]
    }
   ],
   "source": [
    "import json\n",
    "json_obj =  '{ \"Name\":\"David\", \"Class\":\"I\", \"Age\":6 }'\n",
    "python_obj = json.loads(json_obj)\n",
    "print(\"\\nJSON data:\")\n",
    "print(python_obj)\n",
    "print(\"\\nName: \",python_obj[\"Name\"])\n",
    "print(\"Class: \",python_obj[\"Class\"])\n",
    "print(\"Age: \",python_obj[\"Age\"]) "
   ]
  },
  {
   "cell_type": "code",
   "execution_count": null,
   "metadata": {},
   "outputs": [],
   "source": []
  }
 ],
 "metadata": {
  "kernelspec": {
   "display_name": "Python 3",
   "language": "python",
   "name": "python3"
  },
  "language_info": {
   "codemirror_mode": {
    "name": "ipython",
    "version": 3
   },
   "file_extension": ".py",
   "mimetype": "text/x-python",
   "name": "python",
   "nbconvert_exporter": "python",
   "pygments_lexer": "ipython3",
   "version": "3.5.2"
  }
 },
 "nbformat": 4,
 "nbformat_minor": 2
}

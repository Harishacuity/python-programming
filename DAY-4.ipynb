{
 "cells": [
  {
   "cell_type": "markdown",
   "metadata": {},
   "source": [
    "# Conditionals and Recursion"
   ]
  },
  {
   "cell_type": "markdown",
   "metadata": {},
   "source": [
    "## Floor division and modulus"
   ]
  },
  {
   "cell_type": "markdown",
   "metadata": {},
   "source": [
    "Floor division makes the division between two numbers and round off it."
   ]
  },
  {
   "cell_type": "code",
   "execution_count": 1,
   "metadata": {},
   "outputs": [
    {
     "data": {
      "text/plain": [
       "1.75"
      ]
     },
     "execution_count": 1,
     "metadata": {},
     "output_type": "execute_result"
    }
   ],
   "source": [
    "minutes = 105\n",
    "minutes/60    #Normal Division "
   ]
  },
  {
   "cell_type": "code",
   "execution_count": 2,
   "metadata": {},
   "outputs": [
    {
     "name": "stdout",
     "output_type": "stream",
     "text": [
      "1\n"
     ]
    }
   ],
   "source": [
    "minutes2 = 105\n",
    "hour = minutes2//60 # Floor division makes round off the values\n",
    "print(hour)"
   ]
  },
  {
   "cell_type": "markdown",
   "metadata": {},
   "source": [
    "To get the remainder we use modulus operator"
   ]
  },
  {
   "cell_type": "code",
   "execution_count": 3,
   "metadata": {},
   "outputs": [
    {
     "name": "stdout",
     "output_type": "stream",
     "text": [
      "45\n"
     ]
    }
   ],
   "source": [
    "remainder = minutes2%60\n",
    "print(remainder)"
   ]
  },
  {
   "cell_type": "markdown",
   "metadata": {},
   "source": [
    "## Boolean Expression"
   ]
  },
  {
   "cell_type": "markdown",
   "metadata": {},
   "source": [
    "It is an Expression that gives True or False"
   ]
  },
  {
   "cell_type": "code",
   "execution_count": 4,
   "metadata": {},
   "outputs": [
    {
     "data": {
      "text/plain": [
       "True"
      ]
     },
     "execution_count": 4,
     "metadata": {},
     "output_type": "execute_result"
    }
   ],
   "source": [
    "5==5"
   ]
  },
  {
   "cell_type": "markdown",
   "metadata": {},
   "source": [
    "True and False are special values that belong to the type bool ; they are not strings:"
   ]
  },
  {
   "cell_type": "code",
   "execution_count": 5,
   "metadata": {},
   "outputs": [
    {
     "data": {
      "text/plain": [
       "bool"
      ]
     },
     "execution_count": 5,
     "metadata": {},
     "output_type": "execute_result"
    }
   ],
   "source": [
    "type(True)"
   ]
  },
  {
   "cell_type": "markdown",
   "metadata": {},
   "source": [
    "## Relational opertors"
   ]
  },
  {
   "cell_type": "markdown",
   "metadata": {},
   "source": [
    "x == y ------->x equals to y or not\n",
    "\n",
    "x != y ------->x not equals y\n",
    "\n",
    "x <= y ------->x less thnand equals y\n",
    "\n",
    "x >= y ------->x greater than and equals y\n",
    "\n",
    "x > y ------->x greater than y\n",
    "\n",
    "x < y -------> x less than y"
   ]
  },
  {
   "cell_type": "markdown",
   "metadata": {},
   "source": [
    "## Logical operators"
   ]
  },
  {
   "cell_type": "markdown",
   "metadata": {},
   "source": [
    "It contains \"and\", \"or\", \"not\".\n",
    "\n",
    "it has truth table like\n",
    "if we using and operator both the inputs must be true for the output true\n",
    "\n",
    "In or operator any one of the input is true means it makes output True\n",
    "\n",
    "Not operator is a complement of the operand\n",
    "\n",
    "apart from that use the general language meaning to get into the conditions"
   ]
  },
  {
   "cell_type": "code",
   "execution_count": 6,
   "metadata": {},
   "outputs": [
    {
     "data": {
      "text/plain": [
       "True"
      ]
     },
     "execution_count": 6,
     "metadata": {},
     "output_type": "execute_result"
    }
   ],
   "source": [
    "42 and True # 42 is a value and True is a boolean value so it obviously returns True"
   ]
  },
  {
   "cell_type": "code",
   "execution_count": 7,
   "metadata": {},
   "outputs": [
    {
     "data": {
      "text/plain": [
       "True"
      ]
     },
     "execution_count": 7,
     "metadata": {},
     "output_type": "execute_result"
    }
   ],
   "source": [
    "8%2 == 0 #it divides 8 by 2 and check the remainder is zero or not "
   ]
  },
  {
   "cell_type": "markdown",
   "metadata": {},
   "source": [
    "## Conditional , Alternative and nested conditional execution"
   ]
  },
  {
   "cell_type": "code",
   "execution_count": 8,
   "metadata": {},
   "outputs": [
    {
     "name": "stdout",
     "output_type": "stream",
     "text": [
      "x is less than y\n"
     ]
    }
   ],
   "source": [
    " #it is a conditional execution which checks x is less than y\n",
    "x = 5\n",
    "y = 6\n",
    "if x <y:\n",
    "    print('x is less than y')"
   ]
  },
  {
   "cell_type": "code",
   "execution_count": 9,
   "metadata": {},
   "outputs": [
    {
     "name": "stdout",
     "output_type": "stream",
     "text": [
      "x1 is greater than y1\n"
     ]
    }
   ],
   "source": [
    "# it checks whether the condition is valid othervise it excecutes else statement. Alternative Execution\n",
    "x1 = 6\n",
    "y1 = 5\n",
    "if x1 < y1:\n",
    "    print('x1 is less than y1')\n",
    "else:\n",
    "    print('x1 is greater than y1')"
   ]
  },
  {
   "cell_type": "code",
   "execution_count": 10,
   "metadata": {},
   "outputs": [
    {
     "name": "stdout",
     "output_type": "stream",
     "text": [
      "x2 equals y2\n"
     ]
    }
   ],
   "source": [
    "# it is a Chained conditional example \n",
    "x2 = 6\n",
    "y2 = 6\n",
    "if x2<y2:\n",
    "    print('x2 is less than y2')\n",
    "elif x2>y2:\n",
    "    print('x2 is greater than y2')\n",
    "else:\n",
    "    print('x2 equals y2')"
   ]
  },
  {
   "cell_type": "code",
   "execution_count": 11,
   "metadata": {},
   "outputs": [
    {
     "name": "stdout",
     "output_type": "stream",
     "text": [
      "x3 is less than y3\n"
     ]
    }
   ],
   "source": [
    "# this program is same as the previous one but it is nested conditionals\n",
    "x3 = 6\n",
    "y3 = 7\n",
    "if x3==y3:\n",
    "    print('x3 equals y3')\n",
    "else:\n",
    "    if x3>y3:\n",
    "        print('x3 is greater than y3')\n",
    "    else:\n",
    "        print('x3 is less than y3')"
   ]
  },
  {
   "cell_type": "markdown",
   "metadata": {},
   "source": [
    "Although the indentation of the statements makes the structure apparent, nested conditionals become difficult to read very quickly. It is a good idea to avoid them when you\n",
    "can."
   ]
  },
  {
   "cell_type": "markdown",
   "metadata": {},
   "source": [
    "just like in mathmatics we can use some expressions"
   ]
  },
  {
   "cell_type": "code",
   "execution_count": 12,
   "metadata": {},
   "outputs": [
    {
     "name": "stdout",
     "output_type": "stream",
     "text": [
      "x value is inbetween 10 and 20\n"
     ]
    }
   ],
   "source": [
    "x = 12\n",
    "if 10<x<20:\n",
    "    print('x value is inbetween 10 and 20')"
   ]
  },
  {
   "cell_type": "markdown",
   "metadata": {},
   "source": [
    "## Recursion"
   ]
  },
  {
   "cell_type": "markdown",
   "metadata": {},
   "source": [
    "A function is said to be recursive function when it call itself within the function.\n",
    "\n",
    "confusing-----------<-->\n",
    "\n",
    "it is like, keep on doing the same thing until one particular condition satisfies.\n",
    "\n",
    "YES.... if the condition fails then it goes on and ON and ON and ON.........on\n"
   ]
  },
  {
   "cell_type": "code",
   "execution_count": null,
   "metadata": {},
   "outputs": [],
   "source": [
    "def countdown(n):   #creates a function named \"countdown\" with parameter \"n\"\n",
    "    if n <= 0:      # this line gives the condition to check--------->remember if it not satisfies then it goes on.\n",
    "        print('Blastoff!')# once after the condition satisfies then just print 'blastoff'\n",
    "    else:              #if the condition fails then comes here\n",
    "        print(n)       # print the number given as parameter\n",
    "        countdown(n-1)  # it is a important one since it again calls the function."
   ]
  },
  {
   "cell_type": "code",
   "execution_count": null,
   "metadata": {},
   "outputs": [],
   "source": [
    "countdown(3)"
   ]
  },
  {
   "cell_type": "markdown",
   "metadata": {},
   "source": [
    "The execution of countdown begins with n=3 , and since n is greater than 0, it outputs the\n",
    "value 3, and then calls itself...\n",
    "\n",
    "\n",
    "The execution of countdown begins with n=2 , and since n is greater than 0, it\n",
    "outputs the value 2, and then calls itself...\n",
    "\n",
    "The execution of countdown begins with n=1 , and since n is greater\n",
    "than 0, it outputs the value 1, and then calls itself...\n",
    "\n",
    "The execution of countdown begins with n=0 , and since n is\n",
    "not greater than 0, it outputs the word, “Blastoff!” and then\n",
    "returns.\n",
    "\n",
    "The countdown that got n=1 returns.\n",
    "The countdown that got n=2 returns.\n",
    "The countdown that got n=3 returns."
   ]
  },
  {
   "cell_type": "code",
   "execution_count": null,
   "metadata": {},
   "outputs": [],
   "source": [
    "At first it is confusing..... but if you see recursively you can get the point..........\n",
    "\n",
    "1. remember until your condition(here is n<=0) is satisfied the loop keeps on running....\n",
    "\n",
    "2. once it get satisfy the condition it can return the values"
   ]
  },
  {
   "cell_type": "markdown",
   "metadata": {},
   "source": [
    "## Infinite recursion"
   ]
  },
  {
   "cell_type": "markdown",
   "metadata": {},
   "source": [
    "If a recursion never reaches a base case, it goes on making recursive calls forever, and the\n",
    "program never terminates. This is known as infinite recursion, and it is generally not a\n",
    "good idea."
   ]
  },
  {
   "cell_type": "code",
   "execution_count": null,
   "metadata": {},
   "outputs": [],
   "source": [
    "def recurse(x):\n",
    "    if x >=0:\n",
    "        print('blastoff')\n",
    "    else:\n",
    "        print(x)\n",
    "        recurse(x-1)\n",
    "    \n"
   ]
  },
  {
   "cell_type": "code",
   "execution_count": null,
   "metadata": {},
   "outputs": [],
   "source": [
    "recurse(-1)"
   ]
  },
  {
   "cell_type": "code",
   "execution_count": null,
   "metadata": {},
   "outputs": [],
   "source": []
  },
  {
   "cell_type": "markdown",
   "metadata": {},
   "source": [
    "## Some Try's"
   ]
  },
  {
   "cell_type": "code",
   "execution_count": null,
   "metadata": {},
   "outputs": [],
   "source": [
    "def print_n(n, s):\n",
    "    if n <= 0:\n",
    "        return\n",
    "    else:\n",
    "        print(s)\n",
    "        print_n(n-1, s)\n",
    "        \n"
   ]
  },
  {
   "cell_type": "code",
   "execution_count": null,
   "metadata": {},
   "outputs": [],
   "source": [
    "print_n(3, 'hi')"
   ]
  },
  {
   "cell_type": "code",
   "execution_count": null,
   "metadata": {},
   "outputs": [],
   "source": [
    "print_n(5, 'hi')"
   ]
  },
  {
   "cell_type": "code",
   "execution_count": null,
   "metadata": {},
   "outputs": [],
   "source": [
    "def do_n(s,n):\n",
    "    if n <= 0:\n",
    "        return\n",
    "    print(s)\n",
    "    do_n(s, n-1)"
   ]
  },
  {
   "cell_type": "code",
   "execution_count": null,
   "metadata": {},
   "outputs": [],
   "source": [
    "do_n('hi.... hello!!!', 5)"
   ]
  },
  {
   "cell_type": "markdown",
   "metadata": {},
   "source": [
    "## 5.11 Keyboard input"
   ]
  },
  {
   "cell_type": "markdown",
   "metadata": {},
   "source": [
    "We can prompt user to enter the values so that the program may proceed.\n",
    "\n",
    "Python has a built-in function \"input()\" which prompts the user to provide input"
   ]
  },
  {
   "cell_type": "code",
   "execution_count": null,
   "metadata": {},
   "outputs": [],
   "source": [
    "text = input()"
   ]
  },
  {
   "cell_type": "markdown",
   "metadata": {},
   "source": [
    "now the value entered will be stored in the text variable"
   ]
  },
  {
   "cell_type": "code",
   "execution_count": null,
   "metadata": {},
   "outputs": [],
   "source": [
    "text = input('What is your name\\n') # we can provide prompt message to make it etiquite."
   ]
  },
  {
   "cell_type": "code",
   "execution_count": null,
   "metadata": {},
   "outputs": [],
   "source": [
    "type(text)"
   ]
  },
  {
   "cell_type": "code",
   "execution_count": null,
   "metadata": {},
   "outputs": [],
   "source": [
    "a = input()"
   ]
  },
  {
   "cell_type": "code",
   "execution_count": null,
   "metadata": {},
   "outputs": [],
   "source": [
    "type(a)"
   ]
  },
  {
   "cell_type": "markdown",
   "metadata": {},
   "source": [
    "if you see closely everything that we entered in the input will become a string type. \n",
    "\n",
    "so if you want to make it as a integer or any type it should be done seperately"
   ]
  },
  {
   "cell_type": "markdown",
   "metadata": {},
   "source": [
    "### Some Try's"
   ]
  },
  {
   "cell_type": "code",
   "execution_count": null,
   "metadata": {},
   "outputs": [],
   "source": [
    "the below code is to print the given words(anything sort of) for the number of times provided"
   ]
  },
  {
   "cell_type": "code",
   "execution_count": null,
   "metadata": {},
   "outputs": [],
   "source": [
    "\n",
    "def printthefollowing(number,string): # create function with two parametrs\n",
    "    if number<=0:\n",
    "        print('countdown finished')\n",
    "    else:\n",
    "        print(string)\n",
    "        printthefollowing(number-1, string)\n",
    "\n",
    "    "
   ]
  },
  {
   "cell_type": "code",
   "execution_count": null,
   "metadata": {},
   "outputs": [],
   "source": [
    "printthefollowing(4,'hello')"
   ]
  },
  {
   "cell_type": "markdown",
   "metadata": {},
   "source": [
    "## Exercise 5.2"
   ]
  },
  {
   "cell_type": "markdown",
   "metadata": {},
   "source": [
    "Fermat’s Last Theorem says that there are no positive integers a, b, and c such that\n",
    "a^n + b^n = c^n\n",
    "for any values of n greater than 2.\n",
    "1. Write a function named check_fermat that takes four parameters— a , b , c and n —and\n",
    "checks to see if Fermat’s theorem holds. If n is greater than 2 and\n",
    "a^n + b^n = c^n\n",
    "the program should print, “Holy smokes, Fermat was wrong!” Otherwise the program should\n",
    "print, “No, that doesn’t work.”\n",
    "2. Write a function that prompts the user to input values for a , b , c and n , converts them to\n",
    "integers, and uses check_fermat to check whether they violate Fermat’s theorem."
   ]
  },
  {
   "cell_type": "code",
   "execution_count": null,
   "metadata": {},
   "outputs": [],
   "source": [
    "def check_fermat(a,b,c,n):\n",
    "    a = a**n\n",
    "    b = b**n\n",
    "    c = c**n\n",
    "    if ((a+b)==c) and n>2:\n",
    "        print(\"Holy smokes, Fermat was wrong!\")\n",
    "    else:\n",
    "        print(\"No, that doesn't work\")\n",
    "    "
   ]
  },
  {
   "cell_type": "code",
   "execution_count": null,
   "metadata": {},
   "outputs": [],
   "source": [
    "check_fermat(1,2,3,4)"
   ]
  },
  {
   "cell_type": "code",
   "execution_count": null,
   "metadata": {},
   "outputs": [],
   "source": [
    "a = int(input('enter the 1st number: '))\n",
    "b = int(input('enter the 2nd number: '))\n",
    "c = int(input('enter the 3rd number: '))\n",
    "n = int(input('enter the exponential part: '))\n",
    "check_fermat(a,b,c,n)\n"
   ]
  },
  {
   "cell_type": "markdown",
   "metadata": {},
   "source": [
    "## Exercise 5.3"
   ]
  },
  {
   "cell_type": "markdown",
   "metadata": {},
   "source": [
    "If you are given three sticks, you may or may not be able to arrange them in a triangle.\n",
    "For example, if one of the sticks is 12 inches long and the other two are one inch long, you will not\n",
    "be able to get the short sticks to meet in the middle. For any three lengths, there is a simple test to\n",
    "see if it is possible to form a triangle:\n",
    "\n",
    "If any of the three lengths is greater than the sum of the other two, then you cannot\n",
    "form a triangle. Otherwise, you can. (If the sum of two lengths equals the third, they\n",
    "form what is called a “degenerate” triangle.)\n",
    "\n",
    "1. Write a function named is_triangle that takes three integers as arguments, and that prints\n",
    "either “Yes” or “No”, depending on whether you can or cannot form a triangle from sticks\n",
    "with the given lengths.\n",
    "\n",
    "2. Write a function that prompts the user to input three stick lengths, converts them to integers,\n",
    "and uses is_triangle to check whether sticks with the given lengths can form a triangle."
   ]
  },
  {
   "cell_type": "code",
   "execution_count": null,
   "metadata": {},
   "outputs": [],
   "source": [
    "def is_triangle(a,b,c):\n",
    "    if a>b and a>c:\n",
    "        if a > b+c:\n",
    "            print('no triangle formed')\n",
    "        else:\n",
    "            print('yes triangle can be formed')\n",
    "    elif b>a and b>c:\n",
    "        if b > a+c:\n",
    "            print('no tringle formed')\n",
    "        else:\n",
    "            print('yes triangle can be formed')\n",
    "    elif c > a+b:\n",
    "        print('no triangle is formed')\n",
    "    else:\n",
    "        print('yes it is formed')\n",
    "            \n"
   ]
  },
  {
   "cell_type": "code",
   "execution_count": null,
   "metadata": {},
   "outputs": [],
   "source": [
    "is_triangle(4,1,1)"
   ]
  },
  {
   "cell_type": "code",
   "execution_count": null,
   "metadata": {},
   "outputs": [],
   "source": [
    "def is_triangle2(a,b,c):\n",
    "    if (a>b+c) or (b>c+d) or (c>a+b):\n",
    "        print('no triangle formed')\n",
    "    else:\n",
    "        print ('triangle can be formed')"
   ]
  },
  {
   "cell_type": "code",
   "execution_count": null,
   "metadata": {},
   "outputs": [],
   "source": [
    "is_triangle2(2,2,40)"
   ]
  },
  {
   "cell_type": "code",
   "execution_count": null,
   "metadata": {},
   "outputs": [],
   "source": [
    "a = int(input('enter side a: '))\n",
    "b = int(input('enter side b:'))\n",
    "c = int(input('enter side b: '))\n",
    "is_triangle2(a,b,c)"
   ]
  },
  {
   "cell_type": "markdown",
   "metadata": {},
   "source": [
    "## Exercise 5.4"
   ]
  },
  {
   "cell_type": "markdown",
   "metadata": {},
   "source": [
    "What is the output of the following program?\n",
    "def recurse(n, s):\n",
    "if n == 0:\n",
    "print(s)\n",
    "else:\n",
    "recurse(n-1, n+s)\n",
    "recurse(3, 0)\n",
    "1. What would happen if you called this function like this: recurse(-1, 0) ?\n",
    "2. Write a docstring that explains everything someone would need to know in order to use this\n",
    "function (and nothing else)."
   ]
  },
  {
   "cell_type": "code",
   "execution_count": null,
   "metadata": {},
   "outputs": [],
   "source": [
    "def recurse(n ,s):\n",
    "    if n == 0:\n",
    "        print(s)\n",
    "    else:\n",
    "        recurse(n-1, n+s)\n",
    "        print(n)\n",
    "    \"\"\"if n is given -1, then the  function not responds\"\"\"\n"
   ]
  },
  {
   "cell_type": "code",
   "execution_count": null,
   "metadata": {},
   "outputs": [],
   "source": [
    "recurse(3,0)"
   ]
  },
  {
   "cell_type": "code",
   "execution_count": null,
   "metadata": {},
   "outputs": [],
   "source": [
    "recurse(1,0)"
   ]
  },
  {
   "cell_type": "code",
   "execution_count": null,
   "metadata": {},
   "outputs": [],
   "source": []
  }
 ],
 "metadata": {
  "kernelspec": {
   "display_name": "Python 3",
   "language": "python",
   "name": "python3"
  },
  "language_info": {
   "codemirror_mode": {
    "name": "ipython",
    "version": 3
   },
   "file_extension": ".py",
   "mimetype": "text/x-python",
   "name": "python",
   "nbconvert_exporter": "python",
   "pygments_lexer": "ipython3",
   "version": "3.5.2"
  }
 },
 "nbformat": 4,
 "nbformat_minor": 2
}

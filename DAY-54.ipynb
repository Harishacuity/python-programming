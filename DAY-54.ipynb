{
 "cells": [
  {
   "cell_type": "markdown",
   "metadata": {},
   "source": [
    "#### Python program to access a specific item in a singly linked list using index value."
   ]
  },
  {
   "cell_type": "code",
   "execution_count": 3,
   "metadata": {},
   "outputs": [
    {
     "name": "stdout",
     "output_type": "stream",
     "text": [
      "Search using index:\n",
      "RAM\n",
      "MOTHERBOARD\n",
      "SMPS\n",
      "Index out of range\n",
      "Index out of range\n"
     ]
    }
   ],
   "source": [
    "class Node:\n",
    "    # Singly linked node\n",
    "    def __init__(self, data=None):\n",
    "        self.data = data\n",
    "        self.next = None\n",
    "class singly_linked_list:\n",
    "    def __init__(self):\n",
    "        # Createe an empty list\n",
    "        self.tail = None\n",
    "        self.head = None\n",
    "        self.count = 0\n",
    "\n",
    "    def append_item(self, data):\n",
    "        #Append items on the list\n",
    "        node = Node(data)\n",
    "        if self.head:\n",
    "            self.head.next = node\n",
    "            self.head = node\n",
    "        else:\n",
    "            self.tail = node\n",
    "            self.head = node\n",
    "        self.count += 1\n",
    "    \n",
    "    def __getitem__(self, index):\n",
    "        if index > self.count - 1:\n",
    "            return \"Index out of range\"\n",
    "        current_val = self.tail\n",
    "        for n in range(index):\n",
    "            current_val = current_val.next\n",
    "        return current_val.data\n",
    "\n",
    "\n",
    "items = singly_linked_list()\n",
    "items.append_item('RAM')\n",
    "items.append_item('MOTHERBOARD')\n",
    "items.append_item('PROCESSOR')\n",
    "items.append_item('HDD')\n",
    "items.append_item('SMPS')\n",
    "\n",
    "print(\"Search using index:\")\n",
    "print(items[0])\n",
    "print(items[1])\n",
    "print(items[4])\n",
    "print(items[5])\n",
    "print(items[10])"
   ]
  },
  {
   "cell_type": "code",
   "execution_count": null,
   "metadata": {},
   "outputs": [],
   "source": []
  }
 ],
 "metadata": {
  "kernelspec": {
   "display_name": "Python 3",
   "language": "python",
   "name": "python3"
  },
  "language_info": {
   "codemirror_mode": {
    "name": "ipython",
    "version": 3
   },
   "file_extension": ".py",
   "mimetype": "text/x-python",
   "name": "python",
   "nbconvert_exporter": "python",
   "pygments_lexer": "ipython3",
   "version": "3.6.8"
  }
 },
 "nbformat": 4,
 "nbformat_minor": 2
}

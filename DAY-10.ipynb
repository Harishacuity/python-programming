{
 "cells": [
  {
   "cell_type": "markdown",
   "metadata": {},
   "source": [
    "Hi.... In this program we are creating the three functions.\n",
    "\n",
    "1. check the word has no 'e'.\n",
    "\n",
    "2. Counting the word.  \n",
    "\n",
    "3. checking in list of words."
   ]
  },
  {
   "cell_type": "code",
   "execution_count": 3,
   "metadata": {},
   "outputs": [],
   "source": [
    "''' It checks whether the word has letter 'e '''\n",
    "\n",
    "def has_no_e(word): \n",
    "    for letter in word:\n",
    "        if letter == 'e':\n",
    "            return False\n",
    "    return True\n",
    "\n",
    "''' this function count the words present '''\n",
    "\n",
    "def count_the_word(x): \n",
    "    count = 0\n",
    "    for i in x:\n",
    "        count += 1\n",
    "    return count\n",
    "\n",
    "''' this functions enters into a file and checks each word for no 'e' and count those words '''\n",
    "def no_e_inword(x):\n",
    "    fin = open(x)     #opening the file\n",
    "    word_count = 0    #initiating the count to 0\n",
    "    for i in fin:     #iterating the word\n",
    "        a = i.strip() #used to remove '\\n'\n",
    "        if has_no_e(i):#checks the condition\n",
    "            word_count+=1  # count the words that satisfies the condition\n",
    "        #the below code is commented since it takes long duration to load in github \n",
    "        #print(i)   \n",
    "    return word_count"
   ]
  },
  {
   "cell_type": "markdown",
   "metadata": {},
   "source": [
    "Now opening a file named 'words.txt' and getting the percentage of words that has no 'e' in the text file."
   ]
  },
  {
   "cell_type": "code",
   "execution_count": 4,
   "metadata": {},
   "outputs": [
    {
     "name": "stdout",
     "output_type": "stream",
     "text": [
      "total percent of words without a letter \"e\" is: 33.07383423103621\n"
     ]
    }
   ],
   "source": [
    "fin = open('words.txt')\n",
    "words = no_e_inword('words.txt')\n",
    "percentage = (words/count_the_word(fin))*100\n",
    "print('total percent of words without a letter \"e\" is:',percentage)\n"
   ]
  },
  {
   "cell_type": "code",
   "execution_count": null,
   "metadata": {},
   "outputs": [],
   "source": []
  },
  {
   "cell_type": "code",
   "execution_count": null,
   "metadata": {},
   "outputs": [],
   "source": []
  }
 ],
 "metadata": {
  "kernelspec": {
   "display_name": "Python 3",
   "language": "python",
   "name": "python3"
  },
  "language_info": {
   "codemirror_mode": {
    "name": "ipython",
    "version": 3
   },
   "file_extension": ".py",
   "mimetype": "text/x-python",
   "name": "python",
   "nbconvert_exporter": "python",
   "pygments_lexer": "ipython3",
   "version": "3.6.8"
  }
 },
 "nbformat": 4,
 "nbformat_minor": 2
}
